{
 "cells": [
  {
   "cell_type": "code",
   "execution_count": 1,
   "metadata": {},
   "outputs": [
    {
     "data": {
      "text/plain": [
       "[79, 32, 94, 45, 88, 94, 83, 67, 3, 59, 99, 31, 83, 6, 20]"
      ]
     },
     "execution_count": 1,
     "metadata": {},
     "output_type": "execute_result"
    }
   ],
   "source": [
    "import random\n",
    "random.seed(5)\n",
    "my_array = [random.randint(0, 100) for i in range(15)]\n",
    "my_array"
   ]
  },
  {
   "cell_type": "markdown",
   "metadata": {},
   "source": [
    "リストの中に目的のデータがあるあ確認するには，inというキーワードを使う．"
   ]
  },
  {
   "cell_type": "code",
   "execution_count": 2,
   "metadata": {},
   "outputs": [
    {
     "data": {
      "text/plain": [
       "True"
      ]
     },
     "execution_count": 2,
     "metadata": {},
     "output_type": "execute_result"
    }
   ],
   "source": [
    "32 in my_array"
   ]
  },
  {
   "cell_type": "code",
   "execution_count": 3,
   "metadata": {},
   "outputs": [
    {
     "data": {
      "text/plain": [
       "False"
      ]
     },
     "execution_count": 3,
     "metadata": {},
     "output_type": "execute_result"
    }
   ],
   "source": [
    "50 in my_array"
   ]
  },
  {
   "cell_type": "code",
   "execution_count": 4,
   "metadata": {},
   "outputs": [
    {
     "data": {
      "text/plain": [
       "1"
      ]
     },
     "execution_count": 4,
     "metadata": {},
     "output_type": "execute_result"
    }
   ],
   "source": [
    "my_array.index(32)"
   ]
  },
  {
   "cell_type": "code",
   "execution_count": 5,
   "metadata": {},
   "outputs": [
    {
     "ename": "ValueError",
     "evalue": "50 is not in list",
     "output_type": "error",
     "traceback": [
      "\u001b[0;31m---------------------------------------------------------------------------\u001b[0m",
      "\u001b[0;31mValueError\u001b[0m                                Traceback (most recent call last)",
      "\u001b[0;32m<ipython-input-5-f7b24eeedf98>\u001b[0m in \u001b[0;36m<module>\u001b[0;34m\u001b[0m\n\u001b[0;32m----> 1\u001b[0;31m \u001b[0mmy_array\u001b[0m\u001b[0;34m.\u001b[0m\u001b[0mindex\u001b[0m\u001b[0;34m(\u001b[0m\u001b[0;36m50\u001b[0m\u001b[0;34m)\u001b[0m\u001b[0;34m\u001b[0m\u001b[0m\n\u001b[0m",
      "\u001b[0;31mValueError\u001b[0m: 50 is not in list"
     ]
    }
   ],
   "source": [
    "my_array.index(50)"
   ]
  },
  {
   "cell_type": "code",
   "execution_count": 6,
   "metadata": {},
   "outputs": [],
   "source": [
    "def linear_search(array, target):\n",
    "    for v in array:\n",
    "        if target == v:\n",
    "            return True\n",
    "    return False"
   ]
  },
  {
   "cell_type": "code",
   "execution_count": 7,
   "metadata": {},
   "outputs": [
    {
     "data": {
      "text/plain": [
       "True"
      ]
     },
     "execution_count": 7,
     "metadata": {},
     "output_type": "execute_result"
    }
   ],
   "source": [
    "linear_search(my_array, 32)"
   ]
  },
  {
   "cell_type": "code",
   "execution_count": 8,
   "metadata": {},
   "outputs": [
    {
     "data": {
      "text/plain": [
       "False"
      ]
     },
     "execution_count": 8,
     "metadata": {},
     "output_type": "execute_result"
    }
   ],
   "source": [
    "linear_search(my_array, 50)"
   ]
  },
  {
   "cell_type": "code",
   "execution_count": 9,
   "metadata": {},
   "outputs": [
    {
     "data": {
      "text/plain": [
       "5"
      ]
     },
     "execution_count": 9,
     "metadata": {},
     "output_type": "execute_result"
    }
   ],
   "source": [
    "import bisect\n",
    "my_array.sort()\n",
    "bisect.bisect(my_array, 40)"
   ]
  },
  {
   "cell_type": "code",
   "execution_count": 10,
   "metadata": {},
   "outputs": [
    {
     "data": {
      "text/plain": [
       "5"
      ]
     },
     "execution_count": 10,
     "metadata": {},
     "output_type": "execute_result"
    }
   ],
   "source": [
    "bisect.bisect(my_array, 32)\n"
   ]
  },
  {
   "cell_type": "code",
   "execution_count": 11,
   "metadata": {},
   "outputs": [
    {
     "data": {
      "text/plain": [
       "5"
      ]
     },
     "execution_count": 11,
     "metadata": {},
     "output_type": "execute_result"
    }
   ],
   "source": [
    "bisect.bisect_right(my_array, 32)"
   ]
  },
  {
   "cell_type": "code",
   "execution_count": 12,
   "metadata": {},
   "outputs": [
    {
     "data": {
      "text/plain": [
       "4"
      ]
     },
     "execution_count": 12,
     "metadata": {},
     "output_type": "execute_result"
    }
   ],
   "source": [
    "bisect.bisect_left(my_array, 32)"
   ]
  },
  {
   "cell_type": "code",
   "execution_count": 13,
   "metadata": {},
   "outputs": [
    {
     "data": {
      "text/plain": [
       "1"
      ]
     },
     "execution_count": 13,
     "metadata": {},
     "output_type": "execute_result"
    }
   ],
   "source": [
    "test_array = [1, 2, 2, 2, 3, 4]\n",
    "bisect.bisect_left(test_array, 2)"
   ]
  },
  {
   "cell_type": "code",
   "execution_count": 14,
   "metadata": {},
   "outputs": [
    {
     "data": {
      "text/plain": [
       "4"
      ]
     },
     "execution_count": 14,
     "metadata": {},
     "output_type": "execute_result"
    }
   ],
   "source": [
    "bisect.bisect_right(test_array, 2)"
   ]
  },
  {
   "cell_type": "markdown",
   "metadata": {},
   "source": [
    "https://github.com/python/cpython/blob/master/Lib/bisect.py"
   ]
  },
  {
   "cell_type": "code",
   "execution_count": 15,
   "metadata": {},
   "outputs": [],
   "source": [
    "class Node:\n",
    "\n",
    "    def __init__(self, value):\n",
    "        self.value = value\n",
    "        self.left = None\n",
    "        self.right = None\n",
    "\n",
    "    def __str__(self):\n",
    "        # Nodeクラスのインスタンスを文字列表現にする\n",
    "        left = f'[{self.left.value}]' if self.left else '[]'\n",
    "        right = f'[{self.right.value}]' if self.right else '[]'\n",
    "        return f'{left} <- {self.value} -> {right}'\n",
    "\n",
    "\n",
    "class BinarySearchTree:\n",
    "\n",
    "    def __init__(self):\n",
    "        self.nodes = []\n",
    "\n",
    "    def add_node(self, value):\n",
    "        node = Node(value)\n",
    "        if self.nodes:\n",
    "            # 自分の親ノードを探す\n",
    "            parent, direction = self.find_parent(value)\n",
    "            if direction == 'left':\n",
    "                parent.left = node\n",
    "            else:\n",
    "                parent.right = node\n",
    "        # この木のノードとして格納\n",
    "        self.nodes.append(node)\n",
    "    \n",
    "    def find_parent(self, value):\n",
    "        node = self.nodes[0]\n",
    "        # nodeがNoneになるまでループを回す\n",
    "        while node:\n",
    "            p = node  # 戻り値の候補（親かもしれない）としてとっておく。\n",
    "            if p.value == value:\n",
    "                raise ValueError('すでにある値と同じ値を格納することはできません。')\n",
    "            if p.value > value:\n",
    "                direction = 'left'\n",
    "                node = p.left\n",
    "            else:\n",
    "                direction = 'right'\n",
    "                node = p.right\n",
    "        return p, direction"
   ]
  },
  {
   "cell_type": "code",
   "execution_count": 16,
   "metadata": {},
   "outputs": [
    {
     "name": "stdout",
     "output_type": "stream",
     "text": [
      "[4] <- 10 -> [20]\n",
      "[12] <- 20 -> [30]\n",
      "[] <- 12 -> []\n",
      "[3] <- 4 -> [9]\n",
      "[] <- 3 -> []\n",
      "[] <- 9 -> []\n",
      "[] <- 30 -> []\n"
     ]
    }
   ],
   "source": [
    "btree = BinarySearchTree()\n",
    "for v in [10, 20, 12, 4, 3, 9, 30]:\n",
    "    btree.add_node(v)\n",
    "\n",
    "# 1つ1つのノードを文字列にする\n",
    "for node in btree.nodes:\n",
    "    print(node)"
   ]
  },
  {
   "cell_type": "code",
   "execution_count": 17,
   "metadata": {},
   "outputs": [
    {
     "name": "stdout",
     "output_type": "stream",
     "text": [
      "[] <- 3 -> [4]\n",
      "[] <- 4 -> [9]\n",
      "[] <- 9 -> [10]\n",
      "[] <- 10 -> [12]\n",
      "[] <- 12 -> [20]\n",
      "[] <- 20 -> [30]\n",
      "[] <- 30 -> []\n"
     ]
    }
   ],
   "source": [
    "btree = BinarySearchTree()\n",
    "for v in sorted([10, 20, 12, 4, 3, 9, 30]):\n",
    "    btree.add_node(v)\n",
    "\n",
    "for node in btree.nodes:\n",
    "    print(node)"
   ]
  },
  {
   "cell_type": "code",
   "execution_count": 18,
   "metadata": {},
   "outputs": [],
   "source": [
    "import heapq\n",
    "\n",
    "def heap_sort(array):\n",
    "    heap = []\n",
    "    for v in array:\n",
    "        heapq.heappush(heap, v)\n",
    "    return [heapq.heappop(heap) for i in range(len(heap))]"
   ]
  },
  {
   "cell_type": "code",
   "execution_count": 19,
   "metadata": {},
   "outputs": [
    {
     "data": {
      "text/plain": [
       "[14, 47, 60, 31, 48, 69, 13, 73, 31, 1, 93, 27, 52, 35, 23]"
      ]
     },
     "execution_count": 19,
     "metadata": {},
     "output_type": "execute_result"
    }
   ],
   "source": [
    "my_array = [random.randint(0,100) for i in range(15)]\n",
    "my_array"
   ]
  },
  {
   "cell_type": "code",
   "execution_count": 20,
   "metadata": {},
   "outputs": [
    {
     "data": {
      "text/plain": [
       "[1, 13, 14, 23, 27, 31, 31, 35, 47, 48, 52, 60, 69, 73, 93]"
      ]
     },
     "execution_count": 20,
     "metadata": {},
     "output_type": "execute_result"
    }
   ],
   "source": [
    "heap_sort(my_array)"
   ]
  },
  {
   "cell_type": "code",
   "execution_count": 21,
   "metadata": {},
   "outputs": [],
   "source": [
    "# 空の辞書型をつくる\n",
    "my_dic = {}\n",
    "\n",
    "# キー：文字列「taro」、値：整数の10\n",
    "my_dic['taro'] = 10\n",
    "\n",
    "# キー：整数の2、値：リスト\n",
    "my_dic[2] = [1, 2, 3]"
   ]
  },
  {
   "cell_type": "code",
   "execution_count": 22,
   "metadata": {},
   "outputs": [
    {
     "data": {
      "text/plain": [
       "{'taro': 30, 2: [1, 2, 3, 25]}"
      ]
     },
     "execution_count": 22,
     "metadata": {},
     "output_type": "execute_result"
    }
   ],
   "source": [
    "my_dic['taro'] = 30\n",
    "my_dic[2].append(25)\n",
    "my_dic"
   ]
  },
  {
   "cell_type": "code",
   "execution_count": 23,
   "metadata": {},
   "outputs": [
    {
     "ename": "TypeError",
     "evalue": "unhashable type: 'list'",
     "output_type": "error",
     "traceback": [
      "\u001b[0;31m---------------------------------------------------------------------------\u001b[0m",
      "\u001b[0;31mTypeError\u001b[0m                                 Traceback (most recent call last)",
      "\u001b[0;32m<ipython-input-23-daeb53f6a488>\u001b[0m in \u001b[0;36m<module>\u001b[0;34m\u001b[0m\n\u001b[0;32m----> 1\u001b[0;31m \u001b[0mmy_dic\u001b[0m\u001b[0;34m[\u001b[0m\u001b[0;34m[\u001b[0m\u001b[0;36m1\u001b[0m\u001b[0;34m,\u001b[0m \u001b[0;36m2\u001b[0m\u001b[0;34m,\u001b[0m \u001b[0;36m3\u001b[0m\u001b[0;34m]\u001b[0m\u001b[0;34m]\u001b[0m \u001b[0;34m=\u001b[0m \u001b[0;34m'my list'\u001b[0m\u001b[0;34m\u001b[0m\u001b[0m\n\u001b[0m",
      "\u001b[0;31mTypeError\u001b[0m: unhashable type: 'list'"
     ]
    }
   ],
   "source": [
    "my_dic[[1, 2, 3]] = 'my list'"
   ]
  },
  {
   "cell_type": "code",
   "execution_count": 24,
   "metadata": {},
   "outputs": [
    {
     "data": {
      "text/plain": [
       "4052057174978533987"
      ]
     },
     "execution_count": 24,
     "metadata": {},
     "output_type": "execute_result"
    }
   ],
   "source": [
    "hash('taro')"
   ]
  },
  {
   "cell_type": "code",
   "execution_count": 25,
   "metadata": {
    "scrolled": true
   },
   "outputs": [
    {
     "ename": "TypeError",
     "evalue": "unhashable type: 'list'",
     "output_type": "error",
     "traceback": [
      "\u001b[0;31m---------------------------------------------------------------------------\u001b[0m",
      "\u001b[0;31mTypeError\u001b[0m                                 Traceback (most recent call last)",
      "\u001b[0;32m<ipython-input-25-b104c20b3c3a>\u001b[0m in \u001b[0;36m<module>\u001b[0;34m\u001b[0m\n\u001b[1;32m      1\u001b[0m \u001b[0;31m# エラーになる\u001b[0m\u001b[0;34m\u001b[0m\u001b[0;34m\u001b[0m\u001b[0m\n\u001b[0;32m----> 2\u001b[0;31m \u001b[0mhash\u001b[0m\u001b[0;34m(\u001b[0m\u001b[0;34m[\u001b[0m\u001b[0;36m1\u001b[0m\u001b[0;34m,\u001b[0m \u001b[0;36m2\u001b[0m\u001b[0;34m,\u001b[0m \u001b[0;36m3\u001b[0m\u001b[0;34m]\u001b[0m\u001b[0;34m)\u001b[0m\u001b[0;34m\u001b[0m\u001b[0m\n\u001b[0m",
      "\u001b[0;31mTypeError\u001b[0m: unhashable type: 'list'"
     ]
    }
   ],
   "source": [
    "# エラーになる\n",
    "hash([1, 2, 3])"
   ]
  },
  {
   "cell_type": "code",
   "execution_count": 26,
   "metadata": {},
   "outputs": [
    {
     "data": {
      "text/plain": [
       "True"
      ]
     },
     "execution_count": 26,
     "metadata": {},
     "output_type": "execute_result"
    }
   ],
   "source": [
    "a = 'abc'\n",
    "hash(a) == hash('abc')"
   ]
  },
  {
   "cell_type": "code",
   "execution_count": 27,
   "metadata": {},
   "outputs": [
    {
     "data": {
      "text/plain": [
       "-230584300921356288"
      ]
     },
     "execution_count": 27,
     "metadata": {},
     "output_type": "execute_result"
    }
   ],
   "source": [
    "hash(123) - hash(123.1)"
   ]
  },
  {
   "cell_type": "code",
   "execution_count": 28,
   "metadata": {},
   "outputs": [
    {
     "data": {
      "text/plain": [
       "(3, 1)"
      ]
     },
     "execution_count": 28,
     "metadata": {},
     "output_type": "execute_result"
    }
   ],
   "source": [
    "divmod(301, 100)"
   ]
  },
  {
   "cell_type": "code",
   "execution_count": 29,
   "metadata": {},
   "outputs": [
    {
     "data": {
      "text/plain": [
       "(-10, 1)"
      ]
     },
     "execution_count": 29,
     "metadata": {},
     "output_type": "execute_result"
    }
   ],
   "source": [
    "divmod(-999, 100)"
   ]
  },
  {
   "cell_type": "code",
   "execution_count": 30,
   "metadata": {},
   "outputs": [],
   "source": [
    "class HashTable:\n",
    "\n",
    "    def __init__(self, table_size=100):\n",
    "        # テーブルのサイズを引数で変更できるようにしてある\n",
    "        self.data = [[] for i in range(table_size)]\n",
    "        self.n = table_size\n",
    "\n",
    "    def get_hash(self, v):\n",
    "        # オブジェクトのハッシュ値を計算する\n",
    "        return hash(v) % self.n\n",
    "        \n",
    "    def search(self, key):\n",
    "        # keyを使って値を探す\n",
    "        i = self.get_hash(key)\n",
    "        for j, v in enumerate(self.data[i]):\n",
    "            if v[0] == key:\n",
    "                return (i, j)\n",
    "        return (i, -1)\n",
    "\n",
    "    def set(self, key, value):\n",
    "        # データを格納するべき場所を探す\n",
    "        i, j = self.search(key)\n",
    "        if j != -1 :\n",
    "            # すでにある値を書き換える\n",
    "            self.data[i][j][1] = value\n",
    "        else:\n",
    "            # 新たなデータとして付け加える\n",
    "            self.data[i].append([key, value])\n",
    "        \n",
    "    def get(self, key):\n",
    "        i, j = self.search(key)\n",
    "        if j != -1:\n",
    "            return self.data[i][j][1]\n",
    "        # キーが見付からない場合はエラーを返す\n",
    "        raise KeyError(f'{key} was not found in this HashTable!')"
   ]
  },
  {
   "cell_type": "code",
   "execution_count": 31,
   "metadata": {},
   "outputs": [
    {
     "data": {
      "text/plain": [
       "10"
      ]
     },
     "execution_count": 31,
     "metadata": {},
     "output_type": "execute_result"
    }
   ],
   "source": [
    "my_hash_table = HashTable()\n",
    "my_hash_table.set('taro', 10)\n",
    "my_hash_table.get('taro')"
   ]
  },
  {
   "cell_type": "code",
   "execution_count": null,
   "metadata": {},
   "outputs": [],
   "source": []
  },
  {
   "cell_type": "code",
   "execution_count": null,
   "metadata": {},
   "outputs": [],
   "source": []
  },
  {
   "cell_type": "code",
   "execution_count": null,
   "metadata": {},
   "outputs": [],
   "source": []
  },
  {
   "cell_type": "code",
   "execution_count": null,
   "metadata": {},
   "outputs": [],
   "source": []
  },
  {
   "cell_type": "code",
   "execution_count": null,
   "metadata": {},
   "outputs": [],
   "source": []
  },
  {
   "cell_type": "code",
   "execution_count": null,
   "metadata": {},
   "outputs": [],
   "source": []
  },
  {
   "cell_type": "markdown",
   "metadata": {},
   "source": [
    "# 練習問題解答"
   ]
  },
  {
   "cell_type": "markdown",
   "metadata": {},
   "source": [
    "## 5.1\n",
    "\n",
    "randomモジュールのsampleは、重複がないサンプリングをしてくれるので、ランダムに10個の整数を生成するには、10種類以上の整数を用意してこの関数を使えば良い。"
   ]
  },
  {
   "cell_type": "code",
   "execution_count": 32,
   "metadata": {},
   "outputs": [
    {
     "name": "stdout",
     "output_type": "stream",
     "text": [
      "[5] <- 12 -> [14]\n",
      "[2] <- 5 -> []\n",
      "[0] <- 2 -> [4]\n",
      "[3] <- 4 -> []\n",
      "[] <- 14 -> [17]\n",
      "[15] <- 17 -> [19]\n",
      "[] <- 15 -> []\n",
      "[] <- 0 -> []\n",
      "[] <- 19 -> []\n",
      "[] <- 3 -> []\n"
     ]
    }
   ],
   "source": [
    "vals = random.sample(range(20), 10)\n",
    "\n",
    "btree = BinarySearchTree()\n",
    "for v in vals:\n",
    "    btree.add_node(v)\n",
    "    \n",
    "for node in btree.nodes:\n",
    "    print(node)"
   ]
  },
  {
   "cell_type": "markdown",
   "metadata": {},
   "source": [
    "この出力を頼りに、手書きで木構造を再現すると木への理解が深まるだろう。\n",
    "\n",
    "random.sampleを用いずに10個の異なる整数が格納されたリストを作るには、次のようなコードを書くことができる。"
   ]
  },
  {
   "cell_type": "code",
   "execution_count": 33,
   "metadata": {
    "scrolled": false
   },
   "outputs": [
    {
     "data": {
      "text/plain": [
       "[0, 4, 5, 6, 9, 10, 11, 12, 13, 17]"
      ]
     },
     "execution_count": 33,
     "metadata": {},
     "output_type": "execute_result"
    }
   ],
   "source": [
    "res = set()\n",
    "\n",
    "while len(res) < 10:\n",
    "    res.add(random.randint(0, 19))\n",
    "\n",
    "list(res)"
   ]
  },
  {
   "cell_type": "markdown",
   "metadata": {},
   "source": [
    "## 5.2\n",
    "\n",
    "`5．1`のvalsをそのまま利用しよう。"
   ]
  },
  {
   "cell_type": "code",
   "execution_count": 34,
   "metadata": {},
   "outputs": [
    {
     "data": {
      "text/plain": [
       "[0, 3, 2, 4, 12, 17, 15, 5, 19, 14]"
      ]
     },
     "execution_count": 34,
     "metadata": {},
     "output_type": "execute_result"
    }
   ],
   "source": [
    "import heapq\n",
    "\n",
    "heapq.heapify(vals)\n",
    "vals"
   ]
  },
  {
   "cell_type": "markdown",
   "metadata": {},
   "source": [
    "ヒープは完全二分木になっていて、要素を順に並べていけば木構造を再現できる。手書きで再現してみると良いだろう。計算でも確認できる。$i=2$として計算してみよう。"
   ]
  },
  {
   "cell_type": "code",
   "execution_count": 35,
   "metadata": {},
   "outputs": [
    {
     "data": {
      "text/plain": [
       "True"
      ]
     },
     "execution_count": 35,
     "metadata": {},
     "output_type": "execute_result"
    }
   ],
   "source": [
    "i = 2\n",
    "vals[i] <= vals[2*i + 1] and vals[i] <= vals[2*i + 2]"
   ]
  },
  {
   "cell_type": "markdown",
   "metadata": {},
   "source": [
    "heapqモジュールに関するさらに詳しい内容は、公式ドキュメントが参考になる。\n",
    "\n",
    "https://docs.python.org/3/library/heapq.html"
   ]
  },
  {
   "cell_type": "markdown",
   "metadata": {},
   "source": [
    "## 5.3\n",
    "\n",
    "公式ドキュメントやWebの情報が参考になるだろう。また、1と1.0を使った実行例からも、これらの違いを推測できるかもしれない。"
   ]
  },
  {
   "cell_type": "code",
   "execution_count": 36,
   "metadata": {},
   "outputs": [
    {
     "data": {
      "text/plain": [
       "4304853376"
      ]
     },
     "execution_count": 36,
     "metadata": {},
     "output_type": "execute_result"
    }
   ],
   "source": [
    "id(1)"
   ]
  },
  {
   "cell_type": "code",
   "execution_count": 37,
   "metadata": {},
   "outputs": [
    {
     "data": {
      "text/plain": [
       "4548879632"
      ]
     },
     "execution_count": 37,
     "metadata": {},
     "output_type": "execute_result"
    }
   ],
   "source": [
    "id(1.0)"
   ]
  },
  {
   "cell_type": "code",
   "execution_count": 38,
   "metadata": {},
   "outputs": [
    {
     "data": {
      "text/plain": [
       "1"
      ]
     },
     "execution_count": 38,
     "metadata": {},
     "output_type": "execute_result"
    }
   ],
   "source": [
    "hash(1.0)"
   ]
  },
  {
   "cell_type": "code",
   "execution_count": 39,
   "metadata": {},
   "outputs": [
    {
     "data": {
      "text/plain": [
       "1"
      ]
     },
     "execution_count": 39,
     "metadata": {},
     "output_type": "execute_result"
    }
   ],
   "source": [
    "hash(1)"
   ]
  },
  {
   "cell_type": "markdown",
   "metadata": {},
   "source": [
    "hash関数は、数値として同じ値は同じハッシュ値を返す。これはhashがその計算の根拠を、オブジェクトとして等しいかどうかに置いているためだ。一方、idはメモリ空間のどこにそのオブジェクトがあるかを、計算の根拠にしている。1と1.0は整数と小数で本来別のオブジェクトなので、メモリ空間では別の場所に保持されている。このため、idの戻り値は全く異なったものとなる。"
   ]
  },
  {
   "cell_type": "markdown",
   "metadata": {},
   "source": [
    "## 5.4\n",
    "\n",
    "サイズが100のハッシュテーブルを作り、ランダムに整数のキーを生成して、値として同じ文字列を格納する操作を300回繰り返す。キーは、0〜2000の整数から選ぶことにする。"
   ]
  },
  {
   "cell_type": "code",
   "execution_count": 40,
   "metadata": {},
   "outputs": [],
   "source": [
    "my_hash_table = HashTable(table_size=100)\n",
    "\n",
    "for i in range(300):\n",
    "    my_hash_table.set(random.randint(0, 2000), 'test')"
   ]
  },
  {
   "cell_type": "markdown",
   "metadata": {},
   "source": [
    "data属性を表示すれば、ハッシュテーブルの中身がわかる。"
   ]
  },
  {
   "cell_type": "code",
   "execution_count": 41,
   "metadata": {},
   "outputs": [
    {
     "data": {
      "text/plain": [
       "[[[1200, 'test'], [300, 'test'], [400, 'test']],\n",
       " [[1601, 'test'], [601, 'test'], [1201, 'test']],\n",
       " [[402, 'test']],\n",
       " [[503, 'test'],\n",
       "  [1903, 'test'],\n",
       "  [303, 'test'],\n",
       "  [603, 'test'],\n",
       "  [1203, 'test'],\n",
       "  [903, 'test']],\n",
       " [[1404, 'test'], [304, 'test'], [704, 'test'], [1304, 'test']],\n",
       " [[705, 'test'], [605, 'test'], [305, 'test']],\n",
       " [[6, 'test'], [406, 'test']],\n",
       " [[1207, 'test'], [1307, 'test'], [1007, 'test'], [707, 'test']],\n",
       " [],\n",
       " [[1609, 'test'], [1409, 'test']],\n",
       " [[1010, 'test'], [1410, 'test'], [1710, 'test']],\n",
       " [[1411, 'test'], [1511, 'test']],\n",
       " [[512, 'test'], [712, 'test']],\n",
       " [[1613, 'test'], [513, 'test'], [1713, 'test']],\n",
       " [[114, 'test'], [1414, 'test']],\n",
       " [],\n",
       " [[116, 'test'],\n",
       "  [1116, 'test'],\n",
       "  [1516, 'test'],\n",
       "  [1216, 'test'],\n",
       "  [716, 'test'],\n",
       "  [1416, 'test']],\n",
       " [[617, 'test'], [1717, 'test'], [1917, 'test']],\n",
       " [[18, 'test'], [218, 'test']],\n",
       " [[1919, 'test'], [1319, 'test'], [619, 'test']],\n",
       " [[1220, 'test'], [120, 'test'], [1120, 'test'], [1920, 'test']],\n",
       " [[221, 'test'], [921, 'test']],\n",
       " [[1722, 'test'], [1022, 'test'], [1122, 'test'], [1422, 'test']],\n",
       " [[1923, 'test'], [23, 'test']],\n",
       " [[524, 'test'], [1124, 'test'], [424, 'test'], [1024, 'test']],\n",
       " [[1325, 'test']],\n",
       " [[626, 'test'],\n",
       "  [1426, 'test'],\n",
       "  [726, 'test'],\n",
       "  [426, 'test'],\n",
       "  [826, 'test'],\n",
       "  [1726, 'test']],\n",
       " [[727, 'test'], [827, 'test'], [927, 'test'], [627, 'test'], [327, 'test']],\n",
       " [[1828, 'test'], [928, 'test'], [1628, 'test'], [728, 'test']],\n",
       " [[1929, 'test'], [1029, 'test'], [129, 'test']],\n",
       " [[1730, 'test'],\n",
       "  [330, 'test'],\n",
       "  [1230, 'test'],\n",
       "  [230, 'test'],\n",
       "  [1330, 'test'],\n",
       "  [730, 'test']],\n",
       " [[831, 'test'], [1331, 'test']],\n",
       " [[732, 'test'], [1532, 'test'], [1632, 'test'], [1132, 'test']],\n",
       " [[133, 'test'], [633, 'test'], [933, 'test'], [1333, 'test'], [1633, 'test']],\n",
       " [[634, 'test']],\n",
       " [[1235, 'test'], [135, 'test'], [1535, 'test'], [1635, 'test']],\n",
       " [[1936, 'test'], [1836, 'test'], [836, 'test']],\n",
       " [[37, 'test']],\n",
       " [[1438, 'test']],\n",
       " [[639, 'test'], [739, 'test']],\n",
       " [[540, 'test'], [340, 'test']],\n",
       " [[1641, 'test'], [741, 'test']],\n",
       " [[742, 'test'], [1442, 'test'], [542, 'test']],\n",
       " [[1443, 'test'], [243, 'test']],\n",
       " [[1944, 'test'], [744, 'test'], [1744, 'test']],\n",
       " [[1945, 'test'], [345, 'test'], [1745, 'test'], [1145, 'test']],\n",
       " [[646, 'test'], [46, 'test'], [946, 'test'], [346, 'test'], [746, 'test']],\n",
       " [[1547, 'test'], [947, 'test'], [847, 'test'], [1847, 'test']],\n",
       " [[648, 'test'], [948, 'test'], [1748, 'test']],\n",
       " [[1449, 'test'], [749, 'test'], [1049, 'test']],\n",
       " [[1050, 'test'], [1250, 'test'], [650, 'test']],\n",
       " [[351, 'test']],\n",
       " [[752, 'test']],\n",
       " [[353, 'test'], [853, 'test']],\n",
       " [[1954, 'test'], [554, 'test']],\n",
       " [[1155, 'test'], [1055, 'test'], [1555, 'test']],\n",
       " [[1956, 'test'], [56, 'test']],\n",
       " [[857, 'test'], [557, 'test'], [1057, 'test']],\n",
       " [[1958, 'test']],\n",
       " [[1359, 'test'], [1959, 'test']],\n",
       " [[360, 'test'], [1760, 'test'], [160, 'test'], [560, 'test']],\n",
       " [[861, 'test'], [561, 'test'], [1061, 'test'], [161, 'test']],\n",
       " [[962, 'test']],\n",
       " [[363, 'test'], [863, 'test'], [763, 'test'], [1263, 'test'], [1363, 'test']],\n",
       " [[564, 'test']],\n",
       " [[165, 'test'], [65, 'test'], [1965, 'test'], [365, 'test']],\n",
       " [[1966, 'test'], [1466, 'test']],\n",
       " [[967, 'test'], [67, 'test'], [267, 'test'], [367, 'test'], [667, 'test']],\n",
       " [[368, 'test'], [1368, 'test']],\n",
       " [[1069, 'test']],\n",
       " [[770, 'test'], [370, 'test'], [1270, 'test'], [70, 'test']],\n",
       " [[271, 'test'], [971, 'test']],\n",
       " [[772, 'test'], [1672, 'test']],\n",
       " [[1473, 'test'], [1373, 'test']],\n",
       " [[1674, 'test'], [1074, 'test'], [1474, 'test']],\n",
       " [[75, 'test'], [575, 'test'], [1375, 'test'], [1775, 'test'], [1475, 'test']],\n",
       " [[1676, 'test'],\n",
       "  [1476, 'test'],\n",
       "  [1876, 'test'],\n",
       "  [1776, 'test'],\n",
       "  [1576, 'test']],\n",
       " [[1277, 'test'], [1777, 'test'], [977, 'test']],\n",
       " [[378, 'test'], [1678, 'test'], [1278, 'test']],\n",
       " [[679, 'test'], [1379, 'test'], [579, 'test']],\n",
       " [[1880, 'test']],\n",
       " [[981, 'test'], [1781, 'test']],\n",
       " [[182, 'test']],\n",
       " [[1283, 'test'], [1683, 'test']],\n",
       " [[984, 'test'],\n",
       "  [1184, 'test'],\n",
       "  [684, 'test'],\n",
       "  [1284, 'test'],\n",
       "  [1584, 'test'],\n",
       "  [1084, 'test']],\n",
       " [[985, 'test']],\n",
       " [[886, 'test'], [186, 'test'], [486, 'test'], [1586, 'test']],\n",
       " [],\n",
       " [[1388, 'test'], [1588, 'test'], [188, 'test'], [1888, 'test']],\n",
       " [[889, 'test'], [289, 'test'], [1089, 'test'], [1189, 'test']],\n",
       " [[990, 'test'], [290, 'test']],\n",
       " [[1891, 'test'], [1291, 'test'], [591, 'test']],\n",
       " [[692, 'test'], [1892, 'test'], [1092, 'test'], [1692, 'test']],\n",
       " [[693, 'test']],\n",
       " [[1494, 'test'], [994, 'test']],\n",
       " [[95, 'test'], [1495, 'test']],\n",
       " [[696, 'test'], [596, 'test'], [1696, 'test']],\n",
       " [[1997, 'test'], [697, 'test']],\n",
       " [[298, 'test'], [1498, 'test'], [1998, 'test'], [1598, 'test']],\n",
       " [[1599, 'test'], [99, 'test'], [999, 'test'], [1999, 'test']]]"
      ]
     },
     "execution_count": 41,
     "metadata": {},
     "output_type": "execute_result"
    }
   ],
   "source": [
    "my_hash_table.data"
   ]
  },
  {
   "cell_type": "markdown",
   "metadata": {},
   "source": [
    "キーが違っても同じハッシュ値が生成される衝突が頻繁に起きている。それぞれの要素の長さを調べてみよう。このような時は、collectionsのCounterが便利だ。"
   ]
  },
  {
   "cell_type": "code",
   "execution_count": 42,
   "metadata": {},
   "outputs": [
    {
     "data": {
      "text/plain": [
       "Counter({3: 22, 1: 15, 6: 5, 4: 20, 2: 28, 0: 3, 5: 7})"
      ]
     },
     "execution_count": 42,
     "metadata": {},
     "output_type": "execute_result"
    }
   ],
   "source": [
    "import collections\n",
    "\n",
    "collections.Counter([len(v) for v in my_hash_table.data])"
   ]
  },
  {
   "cell_type": "markdown",
   "metadata": {},
   "source": [
    "ハッシュテーブルではハッシュ値の衝突が起きると、その後に線形探索をしなければならない。できるだけハッシュ値が衝突しない方が良いが、これはテーブルのサイズと格納するデータの種類に依存する。"
   ]
  }
 ],
 "metadata": {
  "kernelspec": {
   "display_name": "Python 3",
   "language": "python",
   "name": "python3"
  },
  "language_info": {
   "codemirror_mode": {
    "name": "ipython",
    "version": 3
   },
   "file_extension": ".py",
   "mimetype": "text/x-python",
   "name": "python",
   "nbconvert_exporter": "python",
   "pygments_lexer": "ipython3",
   "version": "3.7.6"
  }
 },
 "nbformat": 4,
 "nbformat_minor": 2
}
