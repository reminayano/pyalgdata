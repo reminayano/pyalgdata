{
 "cells": [
  {
   "cell_type": "code",
   "execution_count": 1,
   "metadata": {},
   "outputs": [
    {
     "data": {
      "text/plain": [
       "'70df01e7b0c1b7042aabb5a3c1e2fbd5'"
      ]
     },
     "execution_count": 1,
     "metadata": {},
     "output_type": "execute_result"
    }
   ],
   "source": [
    "import hashlib\n",
    "\n",
    "# ファイルの内容をfileに格納（事前にファイルのダウンロードが必要）\n",
    "with open('python-3.7.3-embed-win32.zip', 'br') as f:\n",
    "    file = f.read()\n",
    "    \n",
    "# hashlibからmd5のインスタンスを作り、16進数表示のチェックサムを得る\n",
    "hashlib.md5(file).hexdigest()"
   ]
  },
  {
   "cell_type": "code",
   "execution_count": 2,
   "metadata": {},
   "outputs": [
    {
     "data": {
      "text/plain": [
       "'8c0c3027e3cfc3d644caab3847a505b0'"
      ]
     },
     "execution_count": 2,
     "metadata": {},
     "output_type": "execute_result"
    }
   ],
   "source": [
    "hashlib.md5('あ'.encode('UTF-8')).hexdigest()"
   ]
  },
  {
   "cell_type": "code",
   "execution_count": 3,
   "metadata": {},
   "outputs": [
    {
     "name": "stdout",
     "output_type": "stream",
     "text": [
      "1\n",
      "2\n"
     ]
    }
   ],
   "source": [
    "print(hash(1))\n",
    "print(hash(2))"
   ]
  },
  {
   "cell_type": "code",
   "execution_count": 4,
   "metadata": {},
   "outputs": [
    {
     "name": "stdout",
     "output_type": "stream",
     "text": [
      "366da3d0fc5e8ed36f9eac8083a46ae8\n",
      "76f34d73a1a6753d1243c9ba0afe3457\n"
     ]
    }
   ],
   "source": [
    "import pickle\n",
    "print(hashlib.md5(pickle.dumps(1)).hexdigest())\n",
    "print(hashlib.md5(pickle.dumps(2)).hexdigest())"
   ]
  },
  {
   "cell_type": "code",
   "execution_count": 5,
   "metadata": {},
   "outputs": [],
   "source": [
    "def to_byte_hash(val):\n",
    "    byte_data = pickle.dumps(val)\n",
    "    return hashlib.md5(byte_data).hexdigest()"
   ]
  },
  {
   "cell_type": "code",
   "execution_count": 6,
   "metadata": {},
   "outputs": [
    {
     "data": {
      "text/plain": [
       "'390c7c5300a128c476f944872a93ccf4'"
      ]
     },
     "execution_count": 6,
     "metadata": {},
     "output_type": "execute_result"
    }
   ],
   "source": [
    "array_10k = list(range(10000))\n",
    "to_byte_hash(array_10k)"
   ]
  },
  {
   "cell_type": "code",
   "execution_count": 7,
   "metadata": {},
   "outputs": [
    {
     "data": {
      "text/plain": [
       "'ab2d4961f8ac559b4e50588ff7992826'"
      ]
     },
     "execution_count": 7,
     "metadata": {},
     "output_type": "execute_result"
    }
   ],
   "source": [
    "array_10k[0] = -1\n",
    "to_byte_hash(array_10k)"
   ]
  },
  {
   "cell_type": "code",
   "execution_count": 8,
   "metadata": {},
   "outputs": [
    {
     "data": {
      "text/plain": [
       "'390c7c5300a128c476f944872a93ccf4'"
      ]
     },
     "execution_count": 8,
     "metadata": {},
     "output_type": "execute_result"
    }
   ],
   "source": [
    "array_10k[0] = 0\n",
    "to_byte_hash(array_10k)"
   ]
  },
  {
   "cell_type": "code",
   "execution_count": 9,
   "metadata": {},
   "outputs": [],
   "source": [
    "def block_to_hash(block_data, nonce):\n",
    "    # 関数の引数にnonceを連結して、sha256を使ってハッシュ値を計算\n",
    "    input_str = str(block_data) + str(nonce)\n",
    "    h = hashlib.sha256(input_str.encode('UTF-8')).hexdigest()\n",
    "    # 先頭から0がいくつ並んでいるかを数える。\n",
    "    cnt = 0\n",
    "    for v in h:\n",
    "        if v == '0':\n",
    "            cnt += 1\n",
    "        else:\n",
    "            break\n",
    "    return h, cnt"
   ]
  },
  {
   "cell_type": "code",
   "execution_count": 10,
   "metadata": {},
   "outputs": [
    {
     "name": "stdout",
     "output_type": "stream",
     "text": [
      "799585回目の計算で成功しました\n",
      "00000472cdbfc8538016d49f00d7c5ad01cb9e6fc7c733ddbe70ed1e90deb773\n"
     ]
    }
   ],
   "source": [
    "# 先頭に0が5つ並んだハッシュ値を探す\n",
    "my_block = 'prev_block_tx0_tx1_tx2'\n",
    "c = 1\n",
    "while True:\n",
    "    hash_val, cnt = block_to_hash(my_block, c)\n",
    "    if cnt == 5:\n",
    "        print('{}回目の計算で成功しました'.format(c))\n",
    "        print(hash_val)\n",
    "        break\n",
    "    c += 1"
   ]
  },
  {
   "cell_type": "code",
   "execution_count": 11,
   "metadata": {},
   "outputs": [
    {
     "name": "stdout",
     "output_type": "stream",
     "text": [
      "618970019642690137449562111\n",
      "162259276829213363391578010288127\n"
     ]
    }
   ],
   "source": [
    "p = pow(2, 89) - 1\n",
    "q = pow(2, 107) - 1\n",
    "print(p)\n",
    "print(q)"
   ]
  },
  {
   "cell_type": "code",
   "execution_count": 12,
   "metadata": {},
   "outputs": [
    {
     "data": {
      "text/plain": [
       "100433627766186892221372630609062766858404681029709092356097"
      ]
     },
     "execution_count": 12,
     "metadata": {},
     "output_type": "execute_result"
    }
   ],
   "source": [
    "n = p*q\n",
    "n"
   ]
  },
  {
   "cell_type": "code",
   "execution_count": 13,
   "metadata": {},
   "outputs": [],
   "source": [
    "r = 65537\n",
    "\n",
    "def find_s(phi_pq, r):\n",
    "    k = 1\n",
    "    while True:\n",
    "        y = 1 + k * phi_pq\n",
    "        s, d = divmod(y, r)\n",
    "        if d == 0:\n",
    "            return k, s\n",
    "        k += 1"
   ]
  },
  {
   "cell_type": "code",
   "execution_count": 14,
   "metadata": {},
   "outputs": [
    {
     "data": {
      "text/plain": [
       "15499423397885381203395986760745292550657831765628692176393"
      ]
     },
     "execution_count": 14,
     "metadata": {},
     "output_type": "execute_result"
    }
   ],
   "source": [
    "k, s = find_s((p-1)*(q-1), r)\n",
    "s"
   ]
  },
  {
   "cell_type": "code",
   "execution_count": 15,
   "metadata": {},
   "outputs": [],
   "source": [
    "rsa_encode = pow\n",
    "rsa_decode = pow"
   ]
  },
  {
   "cell_type": "code",
   "execution_count": 16,
   "metadata": {},
   "outputs": [
    {
     "data": {
      "text/plain": [
       "29483"
      ]
     },
     "execution_count": 16,
     "metadata": {},
     "output_type": "execute_result"
    }
   ],
   "source": [
    "# 「猫」をUnicodeコードポイントの整数に変換\n",
    "msg = ord('猫')\n",
    "msg"
   ]
  },
  {
   "cell_type": "code",
   "execution_count": 17,
   "metadata": {},
   "outputs": [
    {
     "data": {
      "text/plain": [
       "82321475112792022243592670346886009619295334480301269316154"
      ]
     },
     "execution_count": 17,
     "metadata": {},
     "output_type": "execute_result"
    }
   ],
   "source": [
    "secret_msg = rsa_encode(msg, r, n)\n",
    "secret_msg"
   ]
  },
  {
   "cell_type": "code",
   "execution_count": 18,
   "metadata": {},
   "outputs": [
    {
     "data": {
      "text/plain": [
       "'猫'"
      ]
     },
     "execution_count": 18,
     "metadata": {},
     "output_type": "execute_result"
    }
   ],
   "source": [
    "decoded_msg = rsa_decode(secret_msg, s, n)\n",
    "chr(decoded_msg)"
   ]
  },
  {
   "cell_type": "code",
   "execution_count": 19,
   "metadata": {},
   "outputs": [],
   "source": [
    "def block_sort_encode(val):\n",
    "    res = []\n",
    "    res.append(val)\n",
    "    # もとのデータを追加してあるので、forの回数は1つ少ない\n",
    "    for i in range(len(val) - 1):\n",
    "        # 1つ前（現在の最新）をもってくる\n",
    "        temp = res[-1]\n",
    "        # 先頭の文字を末尾に移動\n",
    "        res.append(temp[1:] + temp[0])\n",
    "    res.sort()\n",
    "    # 元のデータがどこへ行ったか探す\n",
    "    idx = res.index(val)\n",
    "    # 末尾の文字をすべて集めたものが結果\n",
    "    encoded_str = [v[-1] for v in res]\n",
    "    return ''.join(encoded_str), idx"
   ]
  },
  {
   "cell_type": "code",
   "execution_count": 20,
   "metadata": {},
   "outputs": [],
   "source": [
    "input_str = '明日の会合は午後が良いですが，良い天気だとお昼ご飯のあとで眠くなってしまうので，午後は午後でも遅い時間が良いです．'"
   ]
  },
  {
   "cell_type": "code",
   "execution_count": 21,
   "metadata": {},
   "outputs": [
    {
     "data": {
      "text/plain": [
       "('の良良良遅まと後間す眠昼てでで気なっいい後とのだあく飯う日合後しでのはは，会い午午午明．おい天でがが，も時ごでがす', 43)"
      ]
     },
     "execution_count": 21,
     "metadata": {},
     "output_type": "execute_result"
    }
   ],
   "source": [
    "bsorted_str = block_sort_encode(input_str)\n",
    "bsorted_str"
   ]
  },
  {
   "cell_type": "code",
   "execution_count": 22,
   "metadata": {},
   "outputs": [],
   "source": [
    "def block_sort_decode(val, idx):\n",
    "    # ソートしたときにそれぞれ何処へいくかを格納する\n",
    "    char_last_idx = []\n",
    "    for i, v in enumerate(val):\n",
    "        char_last_idx.append((v, i))\n",
    "    # 文字でソートする。同じ文字の場合は、元の順序を保持する。\n",
    "    char_last_idx.sort()\n",
    "    # すべて0で初期化\n",
    "    last_to_front_idx = [0] * len(char_last_idx)\n",
    "    for i, v in enumerate(char_last_idx):\n",
    "        # 末尾にあった文字が先頭へ行ったとき何処へ行ったか\n",
    "        last_to_front_idx[v[1]] = i\n",
    "    res = val[idx]\n",
    "    # 最初は、元のデータのあった場所から\n",
    "    i = last_to_front_idx[idx]\n",
    "    while i != idx:\n",
    "        res += val[i]\n",
    "        #　次に行く場所へ添え字を更新\n",
    "        i = last_to_front_idx[i]\n",
    "    # 逆順にして返す\n",
    "    return res[::-1]"
   ]
  },
  {
   "cell_type": "code",
   "execution_count": 23,
   "metadata": {},
   "outputs": [
    {
     "data": {
      "text/plain": [
       "'明日の会合は午後が良いですが，良い天気だとお昼ご飯のあとで眠くなってしまうので，午後は午後でも遅い時間が良いです．'"
      ]
     },
     "execution_count": 23,
     "metadata": {},
     "output_type": "execute_result"
    }
   ],
   "source": [
    "block_sort_decode(*bsorted_str)"
   ]
  },
  {
   "cell_type": "code",
   "execution_count": null,
   "metadata": {},
   "outputs": [],
   "source": []
  },
  {
   "cell_type": "code",
   "execution_count": null,
   "metadata": {},
   "outputs": [],
   "source": []
  },
  {
   "cell_type": "code",
   "execution_count": null,
   "metadata": {},
   "outputs": [],
   "source": []
  },
  {
   "cell_type": "code",
   "execution_count": null,
   "metadata": {},
   "outputs": [],
   "source": []
  },
  {
   "cell_type": "code",
   "execution_count": null,
   "metadata": {},
   "outputs": [],
   "source": []
  },
  {
   "cell_type": "code",
   "execution_count": null,
   "metadata": {},
   "outputs": [],
   "source": []
  },
  {
   "cell_type": "markdown",
   "metadata": {},
   "source": [
    "# 練習問題解答"
   ]
  },
  {
   "cell_type": "markdown",
   "metadata": {},
   "source": [
    "## 10.1\n",
    "\n",
    "文字列を暗号学的ハッシュ関数で変換するときに、ランダムに生成した小さなデータを付与することがある。これはソルトと呼ばれ、同じ入力に対して、違う出力が出るようにし、わかりやすい文字列を変換した時に情報が漏洩するのを防ぐ役割がある。\n",
    "\n",
    "関数の名前は、hash_with_saltとしよう。また、saltを引数でとるようにし、渡されなかったときは、内部でランダムに生成しよう。"
   ]
  },
  {
   "cell_type": "code",
   "execution_count": 24,
   "metadata": {},
   "outputs": [],
   "source": [
    "import random\n",
    "random.seed(10)\n",
    "\n",
    "def hash_with_salt(val, salt=None):\n",
    "    if not salt:\n",
    "        salt = str(random.randint(1, 100))\n",
    "    m = hashlib.sha3_512()\n",
    "    m.update(val.encode('UTF-8') + salt.encode('UTF-8'))\n",
    "    return m.hexdigest(), salt"
   ]
  },
  {
   "cell_type": "code",
   "execution_count": 25,
   "metadata": {},
   "outputs": [
    {
     "data": {
      "text/plain": [
       "('f129003122900957bc0b3e324bbb9cf2970c35555de9ab7accc2be7374ce4ea7f22f877c0a9bb994552e4daff00214a9aa6026807439003a40118f9d694f2949',\n",
       " '74')"
      ]
     },
     "execution_count": 25,
     "metadata": {},
     "output_type": "execute_result"
    }
   ],
   "source": [
    "hash_with_salt('password')"
   ]
  },
  {
   "cell_type": "markdown",
   "metadata": {},
   "source": [
    "文字列をバイト列に変換するために、encodeメソッドを使った。ハッシュ関数への入力に小さなデータを加えれば、元の文字列がpasswordであることは推測されにくくなる。なぜなら、単純にsha3_512アルゴリズムを使った場合とは全く違う文字列になるからだ。"
   ]
  },
  {
   "cell_type": "code",
   "execution_count": 26,
   "metadata": {},
   "outputs": [
    {
     "data": {
      "text/plain": [
       "'e9a75486736a550af4fea861e2378305c4a555a05094dee1dca2f68afea49cc3a50e8de6ea131ea521311f4d6fb054a146e8282f8e35ff2e6368c1a62e909716'"
      ]
     },
     "execution_count": 26,
     "metadata": {},
     "output_type": "execute_result"
    }
   ],
   "source": [
    "hashlib.sha3_512(b'password').hexdigest()"
   ]
  },
  {
   "cell_type": "markdown",
   "metadata": {},
   "source": [
    "saltがわかっていれば、受け取った文字列と暗号化した文字列を照合できる。"
   ]
  },
  {
   "cell_type": "code",
   "execution_count": 27,
   "metadata": {},
   "outputs": [
    {
     "data": {
      "text/plain": [
       "('f129003122900957bc0b3e324bbb9cf2970c35555de9ab7accc2be7374ce4ea7f22f877c0a9bb994552e4daff00214a9aa6026807439003a40118f9d694f2949',\n",
       " '74')"
      ]
     },
     "execution_count": 27,
     "metadata": {},
     "output_type": "execute_result"
    }
   ],
   "source": [
    "hash_with_salt('password', '74')"
   ]
  },
  {
   "cell_type": "markdown",
   "metadata": {},
   "source": [
    "## 10.2\n",
    "\n",
    "9章の練習問題で見付けた素数から2つを持ってこよう。これらをｐとｑとして、掛け合わせた数をnとする。これは公開鍵の一部となるが、大きな数の素因数分解には時間がかかるので、nからｐとｑを推測することは現代の計算機では難しい。"
   ]
  },
  {
   "cell_type": "code",
   "execution_count": 28,
   "metadata": {},
   "outputs": [],
   "source": [
    "p = 13029484142325529160278057675859771418199793915415887667143262604822998091867456519520695610374545430551058468053152467257405794784202459324043791117505269283282033102238957121905893454537518737843627\n",
    "# こちらを使っても良い。p = 2**521 - 1\n",
    "q = 88301801407902026726739202138197965620005436413133983858109294983959431890532621456825116199688536186064925748393033767927900577431907264510871051225548778689126932900125905788253448444634254212249591\n",
    "# q = 2**607 -1\n",
    "n = p * q"
   ]
  },
  {
   "cell_type": "markdown",
   "metadata": {},
   "source": [
    "r = 65537として、秘密鍵sを計算しよう。"
   ]
  },
  {
   "cell_type": "code",
   "execution_count": 29,
   "metadata": {},
   "outputs": [],
   "source": [
    "k, s = find_s((p-1)*(q-1), r)"
   ]
  },
  {
   "cell_type": "markdown",
   "metadata": {},
   "source": [
    "わかりやすいように名前を付けておこう。"
   ]
  },
  {
   "cell_type": "code",
   "execution_count": 30,
   "metadata": {},
   "outputs": [],
   "source": [
    "public_key = r\n",
    "private_key = s"
   ]
  },
  {
   "cell_type": "markdown",
   "metadata": {},
   "source": [
    "あとはこの章で作った組み込み関数powの別名で暗号化と復号化ができるが、powをそのまま使っても構わない。また、折角なので文字列を暗号化してみよう。"
   ]
  },
  {
   "cell_type": "code",
   "execution_count": 31,
   "metadata": {},
   "outputs": [],
   "source": [
    "top_secret = 'とんでもない秘密'"
   ]
  },
  {
   "cell_type": "code",
   "execution_count": 32,
   "metadata": {},
   "outputs": [
    {
     "data": {
      "text/plain": [
       "5578442738491896392425476467725517650170222265267332165510"
      ]
     },
     "execution_count": 32,
     "metadata": {},
     "output_type": "execute_result"
    }
   ],
   "source": [
    "int(top_secret.encode('UTF-8').hex(), 16)"
   ]
  },
  {
   "cell_type": "code",
   "execution_count": 33,
   "metadata": {},
   "outputs": [
    {
     "data": {
      "text/plain": [
       "5578442738491896392425476467725517650170222265267332165510"
      ]
     },
     "execution_count": 33,
     "metadata": {},
     "output_type": "execute_result"
    }
   ],
   "source": [
    "#　機密情報を整数に変換する\n",
    "top_secret_int = int(top_secret.encode('UTF-8').hex(), 16)\n",
    "top_secret_int"
   ]
  },
  {
   "cell_type": "code",
   "execution_count": 34,
   "metadata": {},
   "outputs": [
    {
     "data": {
      "text/plain": [
       "1052983848199668843728459043526597292807303529046302034682346063883032627421508627032086221876808727163856446581770021494470979583782194461247570709679818184711552945620729052807414218209978482442376731211199402646372412318947712356396703420765398057776596808275134648818061897098517310132292631308276045391792748749449415336216662502846487852602584423235134206457513329587038135791916661154965541380"
      ]
     },
     "execution_count": 34,
     "metadata": {},
     "output_type": "execute_result"
    }
   ],
   "source": [
    "# 暗号化する。\n",
    "crypto_data = pow(top_secret_int, public_key, n)\n",
    "crypto_data"
   ]
  },
  {
   "cell_type": "code",
   "execution_count": 35,
   "metadata": {},
   "outputs": [],
   "source": [
    "# 送られて来た暗号を復号化する\n",
    "received_data = pow(crypto_data, private_key, n)"
   ]
  },
  {
   "cell_type": "code",
   "execution_count": 36,
   "metadata": {},
   "outputs": [
    {
     "data": {
      "text/plain": [
       "5578442738491896392425476467725517650170222265267332165510"
      ]
     },
     "execution_count": 36,
     "metadata": {},
     "output_type": "execute_result"
    }
   ],
   "source": [
    "received_data"
   ]
  },
  {
   "cell_type": "code",
   "execution_count": 37,
   "metadata": {},
   "outputs": [
    {
     "data": {
      "text/plain": [
       "'とんでもない秘密'"
      ]
     },
     "execution_count": 37,
     "metadata": {},
     "output_type": "execute_result"
    }
   ],
   "source": [
    "# 整数値をもとの文字列に戻す\n",
    "bytes.fromhex(format(received_data, 'x')).decode('UTF-8')"
   ]
  },
  {
   "cell_type": "markdown",
   "metadata": {},
   "source": [
    "## 10.3\n",
    "\n",
    "httpsからはじまるURLをもったサイトであれば、なんでもよい。たとえば、https://www.python.org　などブラウザで開き、アドレスバーの横（通常左側）にある南京錠のマークをクリックすると、HTTPS通信のために利用されている公開鍵暗号基盤の証明書の情報などが参照できる。ハッシュのアルゴリズムにSHA256が使われていることなどが確認できるだろう。公開鍵にはRSA暗号が使われていることが多いが、一部サイトでは楕円曲線暗号と呼ばれるアルゴリズムが使われていることもある。このように、現代社会はアルゴリズムに支えられている。また、この分野は日進月歩であるため、基礎的な知識を学習したあとも、常に新しい情報を獲得し理解し続ける姿勢が重要となる。"
   ]
  }
 ],
 "metadata": {
  "kernelspec": {
   "display_name": "Python 3",
   "language": "python",
   "name": "python3"
  },
  "language_info": {
   "codemirror_mode": {
    "name": "ipython",
    "version": 3
   },
   "file_extension": ".py",
   "mimetype": "text/x-python",
   "name": "python",
   "nbconvert_exporter": "python",
   "pygments_lexer": "ipython3",
   "version": "3.7.6"
  }
 },
 "nbformat": 4,
 "nbformat_minor": 2
}
