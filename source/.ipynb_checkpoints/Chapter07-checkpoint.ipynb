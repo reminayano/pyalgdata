{
 "cells": [
  {
   "cell_type": "code",
   "execution_count": 1,
   "metadata": {},
   "outputs": [],
   "source": [
    "from collections import namedtuple\n",
    "import random\n",
    "# 乱数のシードは章の番号\n",
    "random.seed(7)\n",
    "\n",
    "# 品物（Item）は簡単なクラスなのでnamedtupleで作る。\n",
    "Item = namedtuple('Item', ('name', 'weight', 'price'))\n",
    "\n",
    "# 品物の個数\n",
    "num = 20\n",
    "\n",
    "# 品物を保持するリスト\n",
    "item_list = []\n",
    "max_weight = 5\n",
    "# 品物の個数numより大きな数字にする\n",
    "max_price = 50\n",
    "\n",
    "# 値段の候補リストを作り、シャッフル\n",
    "price_list = list(range(1, max_price+1))\n",
    "random.shuffle(price_list)\n",
    "\n",
    "# ランダムに品物を作ってみる。名前は番号\n",
    "for i in range(num):\n",
    "    w = random.randint(1, max_weight)\n",
    "    item = Item(i, w, price_list.pop())\n",
    "    item_list.append(item)"
   ]
  },
  {
   "cell_type": "code",
   "execution_count": 2,
   "metadata": {},
   "outputs": [
    {
     "data": {
      "text/plain": [
       "[Item(name=0, weight=3, price=21),\n",
       " Item(name=1, weight=1, price=10),\n",
       " Item(name=2, weight=5, price=26),\n",
       " Item(name=3, weight=1, price=42),\n",
       " Item(name=4, weight=5, price=4),\n",
       " Item(name=5, weight=1, price=5),\n",
       " Item(name=6, weight=5, price=35),\n",
       " Item(name=7, weight=2, price=7),\n",
       " Item(name=8, weight=4, price=24),\n",
       " Item(name=9, weight=5, price=38),\n",
       " Item(name=10, weight=4, price=46),\n",
       " Item(name=11, weight=3, price=33),\n",
       " Item(name=12, weight=4, price=14),\n",
       " Item(name=13, weight=5, price=3),\n",
       " Item(name=14, weight=4, price=6),\n",
       " Item(name=15, weight=3, price=28),\n",
       " Item(name=16, weight=3, price=27),\n",
       " Item(name=17, weight=2, price=45),\n",
       " Item(name=18, weight=2, price=16),\n",
       " Item(name=19, weight=2, price=37)]"
      ]
     },
     "execution_count": 2,
     "metadata": {},
     "output_type": "execute_result"
    }
   ],
   "source": [
    "item_list"
   ]
  },
  {
   "cell_type": "code",
   "execution_count": 3,
   "metadata": {},
   "outputs": [],
   "source": [
    "class Knapsack:\n",
    "    \n",
    "    def __init__(self, size):\n",
    "        # このナップサックが保持できる最大の重さ\n",
    "        self.size = size\n",
    "        # 現在の重さ\n",
    "        self.weight = 0\n",
    "        # 入っているものの価値の総和\n",
    "        self.value = 0\n",
    "        # 保持しているItemの配列\n",
    "        self.items = []\n",
    "    \n",
    "    def append(self, item):\n",
    "        \"\"\"このナップサックにItemを追加する。\"\"\"\n",
    "        if not self.has_room_for(item):\n",
    "            raise ValueError('このアイテムは入れられません。重量オーバーです。')\n",
    "        self.items.append(item)\n",
    "        self.weight += item.weight\n",
    "        self.value += item.price\n",
    "    \n",
    "    def has_room_for(self, item):\n",
    "        \"\"\"引数にとったアイテムを入れる余裕があるかどうかを真偽値で返す。 \"\"\"\n",
    "        return self.size >= self.weight + item.weight\n",
    "    \n",
    "    def __str__(self):\n",
    "        val = '重さ {} kg / 価値　{} 万円'.format(self.weight, self.value)\n",
    "        return val"
   ]
  },
  {
   "cell_type": "code",
   "execution_count": 4,
   "metadata": {},
   "outputs": [],
   "source": [
    "def greedy(items, size_limit):\n",
    "    #　単位重さあたりの値段で品物を並び替える。\n",
    "    sorted_item_list = sorted(items, key=lambda x: x.price/x.weight, reverse=True)\n",
    "    my_knapsack = Knapsack(size_limit)\n",
    "    for v in sorted_item_list:\n",
    "        # 入る余地があるなら品物を入れる。\n",
    "        try:\n",
    "            my_knapsack.append(v)\n",
    "        except ValueError:\n",
    "            continue\n",
    "    return my_knapsack"
   ]
  },
  {
   "cell_type": "code",
   "execution_count": 5,
   "metadata": {},
   "outputs": [
    {
     "name": "stdout",
     "output_type": "stream",
     "text": [
      "重さ 39 kg / 価値　407 万円\n"
     ]
    }
   ],
   "source": [
    "knap_g = greedy(item_list, 40)\n",
    "print(knap_g)"
   ]
  },
  {
   "cell_type": "code",
   "execution_count": 6,
   "metadata": {},
   "outputs": [
    {
     "data": {
      "text/plain": [
       "[Item(name=3, weight=1, price=42),\n",
       " Item(name=17, weight=2, price=45),\n",
       " Item(name=19, weight=2, price=37),\n",
       " Item(name=10, weight=4, price=46),\n",
       " Item(name=11, weight=3, price=33),\n",
       " Item(name=1, weight=1, price=10),\n",
       " Item(name=15, weight=3, price=28),\n",
       " Item(name=16, weight=3, price=27),\n",
       " Item(name=18, weight=2, price=16),\n",
       " Item(name=9, weight=5, price=38),\n",
       " Item(name=0, weight=3, price=21),\n",
       " Item(name=6, weight=5, price=35),\n",
       " Item(name=8, weight=4, price=24),\n",
       " Item(name=5, weight=1, price=5)]"
      ]
     },
     "execution_count": 6,
     "metadata": {},
     "output_type": "execute_result"
    }
   ],
   "source": [
    "knap_g.items"
   ]
  },
  {
   "cell_type": "code",
   "execution_count": 7,
   "metadata": {},
   "outputs": [],
   "source": [
    "import itertools\n",
    "\n",
    "def brute_force(items, size_limit):\n",
    "    #　答えの候補\n",
    "    candidate = None\n",
    "    # 0と1を20個並べるすべてのパターンをこれで作れる\n",
    "    for pattern in itertools.product((0, 1), repeat=len(items)):\n",
    "        my_box = []\n",
    "        for i, val in enumerate(pattern):\n",
    "            if val: my_box.append(item_list[i])\n",
    "        w = sum([item.weight for item in my_box])\n",
    "        # ナップサックの重量制限を守れないならループの次へ\n",
    "        if w > size_limit: continue\n",
    "        # 総額を計算しこれまでの最高を上回るなら候補として残す\n",
    "        value = sum([item.price for item in my_box])\n",
    "        if candidate is None or value > candidate.value:\n",
    "            knapsack = Knapsack(size_limit)\n",
    "            for v in my_box:\n",
    "                knapsack.append(v)\n",
    "            candidate = knapsack\n",
    "    return candidate"
   ]
  },
  {
   "cell_type": "code",
   "execution_count": 8,
   "metadata": {},
   "outputs": [
    {
     "name": "stdout",
     "output_type": "stream",
     "text": [
      "重さ 40 kg / 価値　409 万円\n"
     ]
    }
   ],
   "source": [
    "knap_bf = brute_force(item_list, 40)\n",
    "print(knap_bf)"
   ]
  },
  {
   "cell_type": "code",
   "execution_count": 9,
   "metadata": {},
   "outputs": [],
   "source": [
    "def dp(items, size_limit):\n",
    "    n = len(items)\n",
    "    # 価値を記録する表を作成 （行が品物、列が許容サイズ）\n",
    "    table = [[0]*(size_limit+1) for i in range(n+1)]\n",
    "    # 価値を更新したかどうかを記録するための表\n",
    "    flag = [[False]*(size_limit+1) for i in range(n+1)]\n",
    "    # 表を下に進むループ（考慮に入れる品物）\n",
    "    for i in range(1, n+1):\n",
    "        # いれるかどうか考えている品物\n",
    "        target = items[i-1]\n",
    "        w = target.weight\n",
    "        # 表を右に進むループ（重さの上限）\n",
    "        for j in range(1, size_limit+1):\n",
    "            # 1行上の最適解\n",
    "            yellow = table[i-1][j]\n",
    "            table[i][j] = yellow\n",
    "            # 今の許容範囲jを越えるなら論外\n",
    "            if w > j: continue\n",
    "            # ちょうどtarget分の重さが少ないときの最適解\n",
    "            pink = table[i-1][j-w]\n",
    "            # この品物を入れたときの価値\n",
    "            include_this = target.price + pink\n",
    "            table[i][j] = max(yellow, include_this)\n",
    "            flag[i][j] = include_this > yellow\n",
    "    # 後処理：表を右下から遡って入れた品物を調べる\n",
    "    i = n\n",
    "    j = size_limit\n",
    "    my_knapsack = Knapsack(size_limit)\n",
    "    while i > 0 and j > 0:\n",
    "        if flag[i][j]:\n",
    "            # この価値の更新で追加した品物は、i-1\n",
    "            my_knapsack.append(items[i-1])\n",
    "            # 表を左へ戻る\n",
    "            j -= items[i-1].weight\n",
    "        i -= 1\n",
    "    return my_knapsack"
   ]
  },
  {
   "cell_type": "code",
   "execution_count": 10,
   "metadata": {},
   "outputs": [
    {
     "name": "stdout",
     "output_type": "stream",
     "text": [
      "重さ 40 kg / 価値　409 万円\n"
     ]
    }
   ],
   "source": [
    "knap_dp = dp(item_list, 40)\n",
    "print(knap_dp)"
   ]
  },
  {
   "cell_type": "code",
   "execution_count": null,
   "metadata": {},
   "outputs": [],
   "source": []
  },
  {
   "cell_type": "code",
   "execution_count": null,
   "metadata": {},
   "outputs": [],
   "source": []
  },
  {
   "cell_type": "code",
   "execution_count": null,
   "metadata": {},
   "outputs": [],
   "source": []
  },
  {
   "cell_type": "code",
   "execution_count": null,
   "metadata": {},
   "outputs": [],
   "source": []
  },
  {
   "cell_type": "code",
   "execution_count": null,
   "metadata": {},
   "outputs": [],
   "source": []
  },
  {
   "cell_type": "code",
   "execution_count": null,
   "metadata": {},
   "outputs": [],
   "source": []
  },
  {
   "cell_type": "markdown",
   "metadata": {},
   "source": [
    "## 練習問題解答"
   ]
  },
  {
   "cell_type": "markdown",
   "metadata": {},
   "source": [
    "## 7.1\n",
    "\n",
    "ループの中でcontinueが実行されると、最も内側のループの次のステップへ進む。break分が実行されると、そのロープを抜ける。ナップサックに順々に品物を詰めていき、入らない品物が初めて見つかったとき、breakが実行されると探索がそこで終わってしまう。ナップサックの余った容量には、別の品物が入る可能性は残っているので、返される結果は貪欲法が正しく実行された時よりも悪いものとなる。\n",
    "\n",
    "ちなみに、このコードではappendメソッドがナップサックに入らない品物を引数にとると例外を発生することがわかっているので、try-except構文を使っているが、次のように書くこともできる。"
   ]
  },
  {
   "cell_type": "code",
   "execution_count": 11,
   "metadata": {},
   "outputs": [],
   "source": [
    "def greedy2(items, size_limit):\n",
    "    sorted_item_list = sorted(items, key=lambda x: x.price/x.weight, reverse=True)\n",
    "    my_knapsack = Knapsack(size_limit)\n",
    "    for v in sorted_item_list:\n",
    "        if my_knapsack.has_room_for(v):\n",
    "            my_knapsack.append(v)\n",
    "    return my_knapsack"
   ]
  },
  {
   "cell_type": "markdown",
   "metadata": {},
   "source": [
    "こちらのコードの方が本文中のコード7.3よりすっきりしていて見やすい。ただ、appendメソッドの中でhas_room_forを呼んでいるので、品物を追加する場合は、同じメソッドを2回呼ぶことになる。has_room_forの処理が重い場合は気をつける必要があるが、いまは気にするほどのことはない。どちらが良い実装なのか、という疑問に対する答えは悩ましいところだ。はっきりとどちらが良いという判断がつかない場合も多い。また、メソッドや関数の動作をドキュメントにして残しておくということも重要だ。いまはクラスの実装と利用を両方1人でしているが、誰かが作ったクラスを利用する場合や、自分が作ったクラスを利用してもらう場合もあるだろう。オープンソースの場合は中身を公開できるが、それでもやはりドキュメントを書くことは重要になる。クラスの各メソッドや関数がどのような動作をするのか、わかりやすく利用者に伝わるようにする必要がある。"
   ]
  },
  {
   "cell_type": "markdown",
   "metadata": {},
   "source": [
    "## 7.2\n",
    "\n",
    "元の問題との違いは、荷物を分割できるところにあるので、この問題は分割ナップサック問題と呼ばれることもある。分割はdivisionなので、関数名はdiv_knapsackにしよう。この問題は、元の0-1ナップサック問題と比べて驚くほど簡単に最適解を求めることができる。"
   ]
  },
  {
   "cell_type": "code",
   "execution_count": 12,
   "metadata": {},
   "outputs": [],
   "source": [
    "def div_knapsack(items, size_limit):\n",
    "    #　単位重さあたりの価値で品物を並び替える。\n",
    "    sorted_item_list = sorted(items, key=lambda x: x.price/x.weight, reverse=True)\n",
    "    my_knapsack = Knapsack(size_limit)\n",
    "    for v in sorted_item_list:\n",
    "        # 入る余地があるなら品物を入れる。\n",
    "        try:\n",
    "            my_knapsack.append(v)\n",
    "        except ValueError:\n",
    "            break\n",
    "    # vの一部を入るだけ入れる。\n",
    "    w = my_knapsack.size - my_knapsack.weight\n",
    "    p = v.price * (w / v.weight)\n",
    "    virtual_item = Item(-1, w, p)\n",
    "    my_knapsack.append(virtual_item)\n",
    "    return my_knapsack"
   ]
  },
  {
   "cell_type": "code",
   "execution_count": 13,
   "metadata": {},
   "outputs": [
    {
     "name": "stdout",
     "output_type": "stream",
     "text": [
      "重さ 40 kg / 価値　412.4 万円\n"
     ]
    }
   ],
   "source": [
    "print(div_knapsack(item_list, 40))"
   ]
  },
  {
   "cell_type": "markdown",
   "metadata": {},
   "source": [
    "貪欲法の実装を改造してプログラムを作った。単位重さあたりの価値が高い品物から順に追加していき、品物が入らなくなったところで、ループを抜ける。あらたに、ナップサックに残っている容量にピッタリ収まる仮想的な品物を作り、これを追加した。これが分割ナップサック問題の最適解になる。元の問題の最適解を求めるのは難しいが、問題をすこし変形すると簡単に最適解が求まることはよくある。同じ品物リストであれば、分割ナップサック問題の解は、元の0-1ナップサック問題の解よりも価値が高い。この分割ナップサック問題を利用して、本章で扱った総当たりで計算するアルゴリズムの計算量を削減する方法もある。これは一般的には、分岐限定法と呼ばれる方法の1つになる。"
   ]
  },
  {
   "cell_type": "markdown",
   "metadata": {},
   "source": [
    "## 7.3\n",
    "\n",
    "やさしいナップサック問題は、その名の通り簡単に解くことができる。0-1ナップサック問題の近似解法として紹介した貪欲法で最適解を求めることができる。問題文の式（7.1）が成り立つので、ある品物$i$がナップサックに入るにも関わらず入れないということは、残りの品物すべてを入れても品物$i$より軽くなる（価値が低くなる）ことを意味する。つまり、貪欲法で最適解を求めることができる。\n",
    "\n",
    "まずはサンプルデータを用意しよう。"
   ]
  },
  {
   "cell_type": "code",
   "execution_count": 14,
   "metadata": {},
   "outputs": [
    {
     "data": {
      "text/plain": [
       "[Item(name=0, weight=1.9488239423104798, price=1.9488239423104798),\n",
       " Item(name=1, weight=2.6551378490580415, price=2.6551378490580415),\n",
       " Item(name=2, weight=4.838261805722269, price=4.838261805722269),\n",
       " Item(name=3, weight=10.071377534468683, price=10.071377534468683),\n",
       " Item(name=4, weight=20.534943054392652, price=20.534943054392652),\n",
       " Item(name=5, weight=43.84009665712613, price=43.84009665712613),\n",
       " Item(name=6, weight=93.38942230837242, price=93.38942230837242),\n",
       " Item(name=7, weight=195.43001615072168, price=195.43001615072168),\n",
       " Item(name=8, weight=411.01576631127926, price=411.01576631127926),\n",
       " Item(name=9, weight=862.345132902462, price=862.345132902462),\n",
       " Item(name=10, weight=1811.0706460021188, price=1811.0706460021188)]"
      ]
     },
     "execution_count": 14,
     "metadata": {},
     "output_type": "execute_result"
    }
   ],
   "source": [
    "random.seed(7)\n",
    "\n",
    "#品物の数\n",
    "num = 10\n",
    "\n",
    "# 品物を生成するための数を保持するリスト\n",
    "val_list = []\n",
    "\n",
    "# 最初の品物の重さ。重さの10％の標準偏差で正規分布に従う乱数を生成\n",
    "w = random.gauss(2, 2*0.1)\n",
    "val_list.append(w)\n",
    "\n",
    "for i in range(num):\n",
    "    total_w = sum(val_list)\n",
    "    w = total_w + abs(random.gauss(total_w * 0.1, 1))\n",
    "    val_list.append(w)\n",
    "\n",
    "tender_list = []\n",
    "for i, v in enumerate(val_list):\n",
    "    tender_list.append(Item(i, v, v))\n",
    "\n",
    "tender_list"
   ]
  },
  {
   "cell_type": "markdown",
   "metadata": {},
   "source": [
    "重さ（値段）に関する条件は、かなり急速に数値が多きくなることがわかる。いくつかの品物が入るように、ナップサックのサイズを3,000としよう。貪欲法のアルゴリズムを少し改造する。"
   ]
  },
  {
   "cell_type": "code",
   "execution_count": 15,
   "metadata": {},
   "outputs": [],
   "source": [
    "def greedy_for_tender(items, size_limit):\n",
    "    #　重さ（または値段）で品物を並び替える。\n",
    "    sorted_item_list = sorted(items, key=lambda x: x.weight, reverse=True)\n",
    "    my_knapsack = Knapsack(size_limit)\n",
    "    for v in sorted_item_list:\n",
    "        # 入る余地があるなら品物を入れる。\n",
    "        try:\n",
    "            my_knapsack.append(v)\n",
    "        except ValueError:\n",
    "            continue\n",
    "    return my_knapsack"
   ]
  },
  {
   "cell_type": "code",
   "execution_count": 16,
   "metadata": {},
   "outputs": [],
   "source": [
    "answer_knapsack = greedy_for_tender(tender_list, 3000)"
   ]
  },
  {
   "cell_type": "code",
   "execution_count": 17,
   "metadata": {
    "scrolled": true
   },
   "outputs": [
    {
     "name": "stdout",
     "output_type": "stream",
     "text": [
      "重さ 2999.628623700569 kg / 価値　2999.628623700569 万円\n"
     ]
    }
   ],
   "source": [
    "print(answer_knapsack)"
   ]
  },
  {
   "cell_type": "code",
   "execution_count": 18,
   "metadata": {},
   "outputs": [
    {
     "data": {
      "text/plain": [
       "[Item(name=10, weight=1811.0706460021188, price=1811.0706460021188),\n",
       " Item(name=9, weight=862.345132902462, price=862.345132902462),\n",
       " Item(name=7, weight=195.43001615072168, price=195.43001615072168),\n",
       " Item(name=6, weight=93.38942230837242, price=93.38942230837242),\n",
       " Item(name=4, weight=20.534943054392652, price=20.534943054392652),\n",
       " Item(name=3, weight=10.071377534468683, price=10.071377534468683),\n",
       " Item(name=2, weight=4.838261805722269, price=4.838261805722269),\n",
       " Item(name=0, weight=1.9488239423104798, price=1.9488239423104798)]"
      ]
     },
     "execution_count": 18,
     "metadata": {},
     "output_type": "execute_result"
    }
   ],
   "source": [
    "answer_knapsack.items"
   ]
  }
 ],
 "metadata": {
  "kernelspec": {
   "display_name": "Python 3",
   "language": "python",
   "name": "python3"
  },
  "language_info": {
   "codemirror_mode": {
    "name": "ipython",
    "version": 3
   },
   "file_extension": ".py",
   "mimetype": "text/x-python",
   "name": "python",
   "nbconvert_exporter": "python",
   "pygments_lexer": "ipython3",
   "version": "3.7.6"
  }
 },
 "nbformat": 4,
 "nbformat_minor": 2
}
