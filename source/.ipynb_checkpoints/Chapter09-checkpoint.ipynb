{
 "cells": [
  {
   "cell_type": "code",
   "execution_count": 1,
   "metadata": {},
   "outputs": [
    {
     "name": "stdout",
     "output_type": "stream",
     "text": [
      "a\ta%3\n",
      "0\t0\n",
      "1\t1\n",
      "2\t2\n",
      "3\t0\n",
      "4\t1\n",
      "5\t2\n",
      "6\t0\n",
      "7\t1\n",
      "8\t2\n",
      "9\t0\n"
     ]
    }
   ],
   "source": [
    "print('a\\ta%3')\n",
    "for a in range(10):\n",
    "    print('{}\\t{}'.format(a, a % 3))"
   ]
  },
  {
   "cell_type": "code",
   "execution_count": 2,
   "metadata": {},
   "outputs": [
    {
     "name": "stdout",
     "output_type": "stream",
     "text": [
      "  a  1  2  3  4\n",
      "  0  0  0  0  0\n",
      "  1  1  1  1  1\n",
      "  2  2  1  2  1\n"
     ]
    }
   ],
   "source": [
    "m = 3\n",
    "# 3文字分のスペースを用意して右に詰めるテンプレートを用意\n",
    "tmpl = '{:>3}' * 5\n",
    "print(tmpl.format('a',1, 2, 3, 4))\n",
    "for a in range(m):\n",
    "    print(tmpl.format(a, a % m, a**2 % m, a**3 % m, a**4 % m))"
   ]
  },
  {
   "cell_type": "code",
   "execution_count": 3,
   "metadata": {},
   "outputs": [
    {
     "name": "stdout",
     "output_type": "stream",
     "text": [
      "    a    1    2    3    4    5    6\n",
      "    0    0    0    0    0    0    0\n",
      "    1    1    1    1    1    1    1\n",
      "    2    2    4    3    1    2    4\n",
      "    3    3    4    2    1    3    4\n",
      "    4    4    1    4    1    4    1\n"
     ]
    }
   ],
   "source": [
    "def make_table(m):\n",
    "    # ノートブックの出力した時に揃えたい場合は、タブで区切るとよい。\n",
    "    tmpl = '{:>5}' * (m+2)\n",
    "    header = ['a']\n",
    "    for i in range(1, m+2):\n",
    "        header.append(i)\n",
    "    print(tmpl.format(*header))\n",
    "    for a in range(m):\n",
    "        vals = [a]\n",
    "        for i in range(1, m+2):\n",
    "            vals.append(a**i % m)\n",
    "        print(tmpl.format(*vals))\n",
    "\n",
    "make_table(5)"
   ]
  },
  {
   "cell_type": "code",
   "execution_count": 4,
   "metadata": {},
   "outputs": [
    {
     "name": "stdout",
     "output_type": "stream",
     "text": [
      "    a    1    2    3    4    5    6    7    8\n",
      "    0    0    0    0    0    0    0    0    0\n",
      "    1    1    1    1    1    1    1    1    1\n",
      "    2    2    4    1    2    4    1    2    4\n",
      "    3    3    2    6    4    5    1    3    2\n",
      "    4    4    2    1    4    2    1    4    2\n",
      "    5    5    4    6    2    3    1    5    4\n",
      "    6    6    1    6    1    6    1    6    1\n"
     ]
    }
   ],
   "source": [
    "make_table(7)"
   ]
  },
  {
   "cell_type": "code",
   "execution_count": 5,
   "metadata": {},
   "outputs": [
    {
     "name": "stdout",
     "output_type": "stream",
     "text": [
      "    a    1    2    3    4    5    6    7    8    9   10   11   12\n",
      "    0    0    0    0    0    0    0    0    0    0    0    0    0\n",
      "    1    1    1    1    1    1    1    1    1    1    1    1    1\n",
      "    2    2    4    8    5   10    9    7    3    6    1    2    4\n",
      "    3    3    9    5    4    1    3    9    5    4    1    3    9\n",
      "    4    4    5    9    3    1    4    5    9    3    1    4    5\n",
      "    5    5    3    4    9    1    5    3    4    9    1    5    3\n",
      "    6    6    3    7    9   10    5    8    4    2    1    6    3\n",
      "    7    7    5    2    3   10    4    6    9    8    1    7    5\n",
      "    8    8    9    6    4   10    3    2    5    7    1    8    9\n",
      "    9    9    4    3    5    1    9    4    3    5    1    9    4\n",
      "   10   10    1   10    1   10    1   10    1   10    1   10    1\n"
     ]
    }
   ],
   "source": [
    "make_table(11)"
   ]
  },
  {
   "cell_type": "code",
   "execution_count": 6,
   "metadata": {},
   "outputs": [
    {
     "data": {
      "text/plain": [
       "941835055627266580503849904967699901590716766919018357565070304823361950367133399542900732284740322521777601905844547593169420188251086886593749196515935593390760187536652106011738575268871993180323759280672417628126657919746903728302044759198496254666440746221659888235849603836511703211069339843375687631356965152411001271698316229606922973356474572299363406732709208587020403633067083930974650069592877377059498048072785729976382608971319618733031236005822959589832916224338394073166035579246147249595264792543752636950473018848366902225627697454311879689812932526825509334542866382263556272489279429356882466403996520939487971338000344947977940225249438532912399615364903618081969750348075979653061340342530492238946980498318447336574248761427952274156947727336055614197092783781607144631121397751009634105863743169220955671203559926685306709828760131344538095242249457431847268039325167407424486632206091946848270839470226382467084978728910799861601117508687889374415646983323949653375444093256741699800036628107453844287185775336103449457085514679807049052115565563109534658262806875921471717780892675216900237693632501844379750725771178531796264471634281068107501293738468624648371711114511954596238782667602042645497822490876708528867530093230214291105358334603390938072544261335670342441093862818271051936448031750937060803069317961355195230345032244387664841067443166356088284819136509159841938961987903300799474677318621397979085676164779967337622441462091434668401611731314402454564938689396462656506389953672887608838510221612430002406358864838414555627383367893015913119404563425096163107984391371010754477067653870421898699550009175321767782787132870708270696069165665441369569285328374990233380187351864180143587858807812968677376"
      ]
     },
     "execution_count": 6,
     "metadata": {},
     "output_type": "execute_result"
    }
   ],
   "source": [
    "2**5800"
   ]
  },
  {
   "cell_type": "code",
   "execution_count": 7,
   "metadata": {},
   "outputs": [
    {
     "data": {
      "text/plain": [
       "1"
      ]
     },
     "execution_count": 7,
     "metadata": {},
     "output_type": "execute_result"
    }
   ],
   "source": [
    "2**5800 % 5801"
   ]
  },
  {
   "cell_type": "code",
   "execution_count": null,
   "metadata": {},
   "outputs": [],
   "source": [
    "# これは現実的な時間で計算が終わらない。\n",
    "2**(2**100) % 5801"
   ]
  },
  {
   "cell_type": "code",
   "execution_count": 8,
   "metadata": {},
   "outputs": [
    {
     "data": {
      "text/plain": [
       "(218560448315211965775293656, 576)"
      ]
     },
     "execution_count": 8,
     "metadata": {},
     "output_type": "execute_result"
    }
   ],
   "source": [
    "divmod(2**100, 5800)"
   ]
  },
  {
   "cell_type": "code",
   "execution_count": 9,
   "metadata": {},
   "outputs": [
    {
     "data": {
      "text/plain": [
       "2162"
      ]
     },
     "execution_count": 9,
     "metadata": {},
     "output_type": "execute_result"
    }
   ],
   "source": [
    "pow(2, 2**100, 5801)"
   ]
  },
  {
   "cell_type": "code",
   "execution_count": 10,
   "metadata": {},
   "outputs": [
    {
     "data": {
      "text/plain": [
       "'0b101011'"
      ]
     },
     "execution_count": 10,
     "metadata": {},
     "output_type": "execute_result"
    }
   ],
   "source": [
    "bin(43)"
   ]
  },
  {
   "cell_type": "code",
   "execution_count": 11,
   "metadata": {},
   "outputs": [],
   "source": [
    "def a_k_mod_m(a, k, m):\n",
    "    b = 1\n",
    "    for i in reversed(bin(k)[2:]):\n",
    "        if i == '1':\n",
    "            b = a * b % m\n",
    "        a = a**2 % m\n",
    "    return b"
   ]
  },
  {
   "cell_type": "code",
   "execution_count": 12,
   "metadata": {},
   "outputs": [
    {
     "data": {
      "text/plain": [
       "97"
      ]
     },
     "execution_count": 12,
     "metadata": {},
     "output_type": "execute_result"
    }
   ],
   "source": [
    "a_k_mod_m(7,43,123)"
   ]
  },
  {
   "cell_type": "code",
   "execution_count": 13,
   "metadata": {},
   "outputs": [
    {
     "data": {
      "text/plain": [
       "2162"
      ]
     },
     "execution_count": 13,
     "metadata": {},
     "output_type": "execute_result"
    }
   ],
   "source": [
    "a_k_mod_m(2, 2**100, 5801)"
   ]
  },
  {
   "cell_type": "code",
   "execution_count": 14,
   "metadata": {},
   "outputs": [],
   "source": [
    "import random\n",
    "\n",
    "def random_div(n, repeat=10):\n",
    "    \"\"\"与えられた数が素数かどうかを判断する。\n",
    "    ランダムに割り算をして約数を見つける。\n",
    "    \"\"\"\n",
    "    if n % 2 == 0:\n",
    "        return 'composite'\n",
    "    d_max = int(pow(n, 0.5))\n",
    "    # 奇数列を作る\n",
    "    odd_seq = range(3, d_max+1, 2)\n",
    "    for cnt in range(repeat):\n",
    "        d = random.choice(odd_seq)\n",
    "        if n % d == 0:\n",
    "            return 'composite'\n",
    "    return 'probably prime'"
   ]
  },
  {
   "cell_type": "code",
   "execution_count": 15,
   "metadata": {},
   "outputs": [],
   "source": [
    "# 8章のprime_test_large_nと同じ変更を加えたもの\n",
    "from decimal import Decimal, getcontext\n",
    "\n",
    "def random_div_large_n(n, repeat=10):\n",
    "    \"\"\"与えられた数が素数かどうかを判断する。\n",
    "    ランダムに割り算をして約数を見つける。\n",
    "    \"\"\"\n",
    "    if n % 2 == 0:\n",
    "        return 'composite'\n",
    "    getcontext().prec = len(str(n))\n",
    "    d_max = int(Decimal(n).sqrt())\n",
    "    # 奇数列を作る\n",
    "    odd_seq = range(3, d_max+1, 2)\n",
    "    for cnt in range(repeat):\n",
    "        d = random.choice(odd_seq)\n",
    "        if n % d == 0:\n",
    "            return 'composite'\n",
    "    return 'probably prime'"
   ]
  },
  {
   "cell_type": "code",
   "execution_count": 7,
   "metadata": {},
   "outputs": [],
   "source": [
    "# 3.8以降では、math.isqrtを利用できる。\n",
    "import math\n",
    "\n",
    "def random_div(n, repeat=10):\n",
    "    \"\"\"与えられた数が素数かどうかを判断する。\n",
    "    ランダムに割り算をして約数を見つける。\n",
    "    \"\"\"\n",
    "    if n % 2 == 0:\n",
    "        return 'composite'\n",
    "    d_max = math.isqrt(n)\n",
    "    # 奇数列を作る\n",
    "    odd_seq = range(3, d_max+1, 2)\n",
    "    for cnt in range(repeat):\n",
    "        d = random.choice(odd_seq)\n",
    "        if n % d == 0:\n",
    "            return 'composite'\n",
    "    return 'probably prime'"
   ]
  },
  {
   "cell_type": "code",
   "execution_count": 16,
   "metadata": {},
   "outputs": [
    {
     "data": {
      "text/plain": [
       "'probably prime'"
      ]
     },
     "execution_count": 16,
     "metadata": {},
     "output_type": "execute_result"
    }
   ],
   "source": [
    "random_div(71)"
   ]
  },
  {
   "cell_type": "code",
   "execution_count": 17,
   "metadata": {},
   "outputs": [
    {
     "name": "stdout",
     "output_type": "stream",
     "text": [
      "composite\n",
      "composite\n",
      "composite\n",
      "composite\n",
      "composite\n",
      "composite\n",
      "probably prime\n",
      "composite\n",
      "composite\n",
      "composite\n",
      "composite\n",
      "probably prime\n",
      "composite\n",
      "composite\n",
      "probably prime\n",
      "composite\n",
      "composite\n",
      "probably prime\n",
      "composite\n",
      "composite\n"
     ]
    }
   ],
   "source": [
    "for i in range(20):\n",
    "    print(random_div(1105))"
   ]
  },
  {
   "cell_type": "code",
   "execution_count": 18,
   "metadata": {},
   "outputs": [],
   "source": [
    "def fermat_check(n):\n",
    "    cnt = 0\n",
    "    for a in range(2, n):\n",
    "        if pow(a, n-1, n) != 1:\n",
    "            cnt += 1\n",
    "    return cnt"
   ]
  },
  {
   "cell_type": "code",
   "execution_count": 19,
   "metadata": {},
   "outputs": [
    {
     "data": {
      "text/plain": [
       "0"
      ]
     },
     "execution_count": 19,
     "metadata": {},
     "output_type": "execute_result"
    }
   ],
   "source": [
    "fermat_check(71)"
   ]
  },
  {
   "cell_type": "code",
   "execution_count": 20,
   "metadata": {},
   "outputs": [
    {
     "data": {
      "text/plain": [
       "94"
      ]
     },
     "execution_count": 20,
     "metadata": {},
     "output_type": "execute_result"
    }
   ],
   "source": [
    "fermat_check(99)"
   ]
  },
  {
   "cell_type": "code",
   "execution_count": 21,
   "metadata": {},
   "outputs": [
    {
     "data": {
      "text/plain": [
       "336"
      ]
     },
     "execution_count": 21,
     "metadata": {},
     "output_type": "execute_result"
    }
   ],
   "source": [
    "fermat_check(1105)"
   ]
  },
  {
   "cell_type": "code",
   "execution_count": 22,
   "metadata": {},
   "outputs": [],
   "source": [
    "def squeeze_q(n):\n",
    "    \"\"\"奇数の引数ｎから1を引いた数を計算し、\n",
    "    2の成分を搾り取った奇数と2の個数を返す。\n",
    "    \"\"\"\n",
    "    k = 0\n",
    "    x = n-1\n",
    "    while x % 2 != 1:\n",
    "        k += 1\n",
    "        x //= 2\n",
    "    return (n-1) // pow(2, k), k\n",
    "\n",
    "def rabin_miller(n, repeat=10):\n",
    "    if n < 2:\n",
    "        return 'give me more than 1.'\n",
    "    if n == 2:\n",
    "        return 'prime'\n",
    "    if n % 2 == 0:\n",
    "        return 'composite'\n",
    "    q, k = squeeze_q(n)\n",
    "    cnt = 0\n",
    "    while cnt < repeat:\n",
    "        a = random.randint(2, n-1)\n",
    "        # 1つ目の条件\n",
    "        cond_1 = pow(a, q, n) != 1\n",
    "        temp = []\n",
    "        for i in range(k):\n",
    "            y = pow(2, i) * q\n",
    "            c = pow(a, y, n) != n-1\n",
    "            temp.append(c)\n",
    "        # 2つ目の条件\n",
    "        cond_2 = all(temp)\n",
    "        if cond_1 and cond_2:\n",
    "            return 'composite'\n",
    "        cnt += 1\n",
    "    return 'probably prime'"
   ]
  },
  {
   "cell_type": "code",
   "execution_count": 23,
   "metadata": {},
   "outputs": [
    {
     "data": {
      "text/plain": [
       "'probably prime'"
      ]
     },
     "execution_count": 23,
     "metadata": {},
     "output_type": "execute_result"
    }
   ],
   "source": [
    "rabin_miller(71)"
   ]
  },
  {
   "cell_type": "code",
   "execution_count": 24,
   "metadata": {},
   "outputs": [
    {
     "data": {
      "text/plain": [
       "'composite'"
      ]
     },
     "execution_count": 24,
     "metadata": {},
     "output_type": "execute_result"
    }
   ],
   "source": [
    "rabin_miller(1105)"
   ]
  },
  {
   "cell_type": "code",
   "execution_count": 25,
   "metadata": {},
   "outputs": [
    {
     "name": "stdout",
     "output_type": "stream",
     "text": [
      "[2] / 3\n",
      "[3] / 7\n",
      "[5] / 31\n",
      "[7] / 127\n",
      "[13] / 8191\n",
      "[17] / 131071\n",
      "[19] / 524287\n",
      "[31] / 2147483647\n",
      "[61] / 2305843009213693951\n",
      "[89] / 618970019642690137449562111\n",
      "[107] / 162259276829213363391578010288127\n",
      "[127] / 170141183460469231731687303715884105727\n",
      "[521] / 6864797660130609714981900799081393217269435300143305409394463459185543183397656052122559640661454554977296311391480858037121987999716643812574028291115057151\n",
      "[607] / 531137992816767098689588206552468627329593117727031923199444138200403559860852242739162502265229285668889329486246501015346579337652707239409519978766587351943831270835393219031728127\n"
     ]
    }
   ],
   "source": [
    "def M(n):\n",
    "    # Mersenne数を返す\n",
    "    return pow(2, n)-1\n",
    "\n",
    "for n in range(2, 1000):\n",
    "    if rabin_miller(M(n)) == 'probably prime':\n",
    "        print('[{}] / {}'.format(n, M(n)))"
   ]
  },
  {
   "cell_type": "code",
   "execution_count": null,
   "metadata": {},
   "outputs": [],
   "source": []
  },
  {
   "cell_type": "code",
   "execution_count": null,
   "metadata": {},
   "outputs": [],
   "source": []
  },
  {
   "cell_type": "code",
   "execution_count": null,
   "metadata": {},
   "outputs": [],
   "source": []
  },
  {
   "cell_type": "code",
   "execution_count": null,
   "metadata": {},
   "outputs": [],
   "source": []
  },
  {
   "cell_type": "code",
   "execution_count": null,
   "metadata": {},
   "outputs": [],
   "source": []
  },
  {
   "cell_type": "code",
   "execution_count": null,
   "metadata": {},
   "outputs": [],
   "source": []
  },
  {
   "cell_type": "markdown",
   "metadata": {},
   "source": [
    "# 練習問題解答"
   ]
  },
  {
   "cell_type": "markdown",
   "metadata": {},
   "source": [
    "## 9.1\n",
    "\n",
    "互いに素は英語で、mutually primeの他、coprimeとも言うので、関数の名前を、count_coprimeとしよう。実直にやるなら簡単に実装できる。"
   ]
  },
  {
   "cell_type": "code",
   "execution_count": 26,
   "metadata": {},
   "outputs": [],
   "source": [
    "import math\n",
    "\n",
    "def count_coprime(m):\n",
    "    # 1とは互いに素なので、結果をひとまず1で初期化\n",
    "    res = 1\n",
    "    # mとは互いに素ではない。\n",
    "    for i in range(2, m):\n",
    "        if math.gcd(m, i) == 1: res += 1\n",
    "    return res        "
   ]
  },
  {
   "cell_type": "markdown",
   "metadata": {},
   "source": [
    "確かめてみよう。$m=6$とすると、6以下で6と互いに素な数は、5と1の2つしかない。"
   ]
  },
  {
   "cell_type": "code",
   "execution_count": 27,
   "metadata": {},
   "outputs": [
    {
     "data": {
      "text/plain": [
       "2"
      ]
     },
     "execution_count": 27,
     "metadata": {},
     "output_type": "execute_result"
    }
   ],
   "source": [
    "count_coprime(6)"
   ]
  },
  {
   "cell_type": "markdown",
   "metadata": {},
   "source": [
    "$m$が素数のときは、1とその数自身以外の約数がない。したがって、互いに素な数は$m-1$個となる。"
   ]
  },
  {
   "cell_type": "code",
   "execution_count": 28,
   "metadata": {},
   "outputs": [
    {
     "data": {
      "text/plain": [
       "22"
      ]
     },
     "execution_count": 28,
     "metadata": {},
     "output_type": "execute_result"
    }
   ],
   "source": [
    "count_coprime(23)"
   ]
  },
  {
   "cell_type": "markdown",
   "metadata": {},
   "source": [
    "count_coprimeで計算される値は、オイラーのファイ関数と呼ばれ$\\varphi(m)$と表現されることが多い。この応用例については10章で少し触れる。"
   ]
  },
  {
   "cell_type": "markdown",
   "metadata": {},
   "source": [
    "## 9.2\n",
    "\n",
    "関数の名前は、is_carmichaelとしよう。1から順に引数の1つ手前まで、互いに素である場合に、フェルマーの小定理が成り立つかどうかを確認していく。"
   ]
  },
  {
   "cell_type": "code",
   "execution_count": 29,
   "metadata": {},
   "outputs": [],
   "source": [
    "import math\n",
    "\n",
    "def is_carmichael(n):\n",
    "    for a in range(1, n):\n",
    "        if math.gcd(n, a) == 1 and pow(a, n-1, n) != 1:\n",
    "            return False\n",
    "    return True"
   ]
  },
  {
   "cell_type": "markdown",
   "metadata": {},
   "source": [
    "確認してみよう。"
   ]
  },
  {
   "cell_type": "code",
   "execution_count": 30,
   "metadata": {},
   "outputs": [
    {
     "data": {
      "text/plain": [
       "True"
      ]
     },
     "execution_count": 30,
     "metadata": {},
     "output_type": "execute_result"
    }
   ],
   "source": [
    "is_carmichael(1105)"
   ]
  },
  {
   "cell_type": "markdown",
   "metadata": {},
   "source": [
    "この他にも、2465や8911がカーマイケル数であることが知られている。"
   ]
  },
  {
   "cell_type": "code",
   "execution_count": 31,
   "metadata": {},
   "outputs": [
    {
     "data": {
      "text/plain": [
       "True"
      ]
     },
     "execution_count": 31,
     "metadata": {},
     "output_type": "execute_result"
    }
   ],
   "source": [
    "is_carmichael(2465) and is_carmichael(8911)"
   ]
  },
  {
   "cell_type": "markdown",
   "metadata": {},
   "source": [
    "この章で見たように、互いに素な数に限定しなければ、フェルマーの小定理が成り立たないときもある。本章ではこれを、合成数の証人の根拠ととしていた。しかし、大きなカーマイケル数ではfermar_checkで確認できる証人もかなり少なくなる。たとえば、5049001というカーマイケル数の証人の数を計算してみよう。"
   ]
  },
  {
   "cell_type": "code",
   "execution_count": 32,
   "metadata": {},
   "outputs": [
    {
     "data": {
      "text/plain": [
       "189000"
      ]
     },
     "execution_count": 32,
     "metadata": {},
     "output_type": "execute_result"
    }
   ],
   "source": [
    "# すこし計算に時間がかかる\n",
    "fermat_check(5049001)"
   ]
  },
  {
   "cell_type": "markdown",
   "metadata": {},
   "source": [
    "これはかなり少ない。全体の4％弱だ。"
   ]
  },
  {
   "cell_type": "code",
   "execution_count": 33,
   "metadata": {},
   "outputs": [
    {
     "data": {
      "text/plain": [
       "0.037433162494189445"
      ]
     },
     "execution_count": 33,
     "metadata": {},
     "output_type": "execute_result"
    }
   ],
   "source": [
    "p = 189000/(5049001-2)\n",
    "p"
   ]
  },
  {
   "cell_type": "code",
   "execution_count": 34,
   "metadata": {},
   "outputs": [
    {
     "data": {
      "text/plain": [
       "0.6828242749240893"
      ]
     },
     "execution_count": 34,
     "metadata": {},
     "output_type": "execute_result"
    }
   ],
   "source": [
    "pow((1-p), 10)"
   ]
  },
  {
   "cell_type": "markdown",
   "metadata": {},
   "source": [
    "また10回の試行では、連続でニセの証人をつかまされる確率が約7割もある。ラビン・ミラー法のすごさとありがたさがわかる。\n",
    "\n",
    "前問のcount_coprimeと本問のis_carmichaelの実装はかなり単純なので、引数が大きくなると計算量が増す。これらについても数論の成果を利用した効率的なアルゴリズムが知られている。興味のある読者は調べてみるとよいだろう。"
   ]
  },
  {
   "cell_type": "markdown",
   "metadata": {},
   "source": [
    "## 9.3\n",
    "\n",
    "Python3では、/演算子は小数を返し、//演算子は整数を返す。squeeze_qで行われている除算は割り切れることが分かっており、小数を返す必要はない。小数型と整数型はコンピュータ内部での表現方法が違うため、小数になった時点で、整数だけを使った計算とは結果が異なる可能性がある。また、小数は扱える数の範囲が仕様で決まっているため、この範囲に収まらない大きさの整数で行われている計算はそれ以上続行できない。\n",
    "\n",
    "例をみてみよう。大きなメルセンヌ素数に2を掛けて、2で割る計算を考えてみる。"
   ]
  },
  {
   "cell_type": "code",
   "execution_count": 35,
   "metadata": {},
   "outputs": [
    {
     "data": {
      "text/plain": [
       "531137992816767098689588206552468627329593117727031923199444138200403559860852242739162502265229285668889329486246501015346579337652707239409519978766587351943831270835393219031728127"
      ]
     },
     "execution_count": 35,
     "metadata": {},
     "output_type": "execute_result"
    }
   ],
   "source": [
    "n = 607\n",
    "M(n)"
   ]
  },
  {
   "cell_type": "code",
   "execution_count": 36,
   "metadata": {},
   "outputs": [
    {
     "data": {
      "text/plain": [
       "531137992816767098689588206552468627329593117727031923199444138200403559860852242739162502265229285668889329486246501015346579337652707239409519978766587351943831270835393219031728127"
      ]
     },
     "execution_count": 36,
     "metadata": {},
     "output_type": "execute_result"
    }
   ],
   "source": [
    "M(n) * 2 // 2"
   ]
  },
  {
   "cell_type": "code",
   "execution_count": 37,
   "metadata": {},
   "outputs": [
    {
     "data": {
      "text/plain": [
       "531137992816767098689588206552468627329593117727031923199444138200403559860852242739162502265229285668889329486246501015346579337652707239409519978766587351943831270835393219031728128"
      ]
     },
     "execution_count": 37,
     "metadata": {},
     "output_type": "execute_result"
    }
   ],
   "source": [
    "int(M(n) * 2 / 2)"
   ]
  },
  {
   "cell_type": "markdown",
   "metadata": {},
   "source": [
    "`/`を使ったため小数になり、結果が違っているのがわかるだろう。"
   ]
  },
  {
   "cell_type": "code",
   "execution_count": 38,
   "metadata": {},
   "outputs": [
    {
     "data": {
      "text/plain": [
       "190797007524439073807468042969529173669356994749940177394741882673528979787005053706368049835514900244303495954950709725762186311224148828811920216904542206960744666169364221195289538436845390250168663932838805192055137154390912666527533007309292687539092257043362517857366624699975402375462954490293259233303137330643531556539739921926201438606439020075174723029056838272505051571967594608350063404495977660656269020823960825567012344189908927956646011998057988548630107637380993519826582389781888135705408653045219655801758081251164080554609057468028203308718724654081055323215860189611391296030471108443146745671967766308925858547271507311563765171008318248647110097614890313562856541784154881743146033909602737947385055355960331855614540900081456378659068370317267696980001187750995491090350108417050917991562167972281070161305972518044872048331306383715094854938415738549894606070722584737978176686422134354526989443028353644037187375385397838259511833166416134323695660367676897722287918773420968982326089026150031515424165462111337527431154890666327374921446276833564519776797633875503548665093914556482031482248883127023777039667707976559857333357013727342079099064400455741830654320379350833236245819348824064783585692924881021978332974949906122664421376034687815350484991"
      ]
     },
     "execution_count": 38,
     "metadata": {},
     "output_type": "execute_result"
    }
   ],
   "source": [
    "n = 4253\n",
    "M(n)"
   ]
  },
  {
   "cell_type": "code",
   "execution_count": 39,
   "metadata": {
    "scrolled": true
   },
   "outputs": [
    {
     "ename": "OverflowError",
     "evalue": "integer division result too large for a float",
     "output_type": "error",
     "traceback": [
      "\u001b[0;31m---------------------------------------------------------------------------\u001b[0m",
      "\u001b[0;31mOverflowError\u001b[0m                             Traceback (most recent call last)",
      "\u001b[0;32m<ipython-input-39-c02142f6d7d0>\u001b[0m in \u001b[0;36m<module>\u001b[0;34m\u001b[0m\n\u001b[0;32m----> 1\u001b[0;31m \u001b[0mM\u001b[0m\u001b[0;34m(\u001b[0m\u001b[0mn\u001b[0m\u001b[0;34m)\u001b[0m \u001b[0;34m*\u001b[0m \u001b[0;36m2\u001b[0m \u001b[0;34m/\u001b[0m \u001b[0;36m2\u001b[0m\u001b[0;34m\u001b[0m\u001b[0m\n\u001b[0m",
      "\u001b[0;31mOverflowError\u001b[0m: integer division result too large for a float"
     ]
    }
   ],
   "source": [
    "M(n) * 2 / 2"
   ]
  },
  {
   "cell_type": "markdown",
   "metadata": {},
   "source": [
    "浮動小数点数で扱えない範囲になってしまいエラーとなる。"
   ]
  },
  {
   "cell_type": "markdown",
   "metadata": {},
   "source": [
    "また、2で割るという計算は、ビットを1つ右にシフトするという意味と同じになる。>>という演算子でビットをシフトできる。"
   ]
  },
  {
   "cell_type": "code",
   "execution_count": 40,
   "metadata": {},
   "outputs": [
    {
     "data": {
      "text/plain": [
       "2"
      ]
     },
     "execution_count": 40,
     "metadata": {},
     "output_type": "execute_result"
    }
   ],
   "source": [
    "4 >> 1   # 4 // 2と同じ"
   ]
  },
  {
   "cell_type": "markdown",
   "metadata": {},
   "source": [
    "さらに、2のk乗で割るという計算は、kビット右にシフトすることを意味するので、次のように書くことができる。"
   ]
  },
  {
   "cell_type": "code",
   "execution_count": 41,
   "metadata": {},
   "outputs": [
    {
     "data": {
      "text/plain": [
       "4"
      ]
     },
     "execution_count": 41,
     "metadata": {},
     "output_type": "execute_result"
    }
   ],
   "source": [
    "16 >> 2  # 16 //  4と同じ"
   ]
  },
  {
   "cell_type": "markdown",
   "metadata": {},
   "source": [
    "関数squeeze_qの中の//は、>>演算子と置き換えることができる。"
   ]
  },
  {
   "cell_type": "markdown",
   "metadata": {},
   "source": [
    "## 9.4\n",
    "\n",
    "素数が10個見付かるまでwhileループを回せばよい。回数をカウントしておき、最後に出力するようにしておこう。"
   ]
  },
  {
   "cell_type": "code",
   "execution_count": 42,
   "metadata": {},
   "outputs": [],
   "source": [
    "cnt = 0\n",
    "# 同じ素数を掴まないようにするため\n",
    "prime_set = set()\n",
    "\n",
    "while len(prime_set) < 10:\n",
    "    n = random.randint(10**199, 10**200 - 1)\n",
    "    if rabin_miller(n) == 'probably prime':\n",
    "        prime_set.add(n)\n",
    "    cnt += 1"
   ]
  },
  {
   "cell_type": "code",
   "execution_count": 43,
   "metadata": {},
   "outputs": [
    {
     "name": "stdout",
     "output_type": "stream",
     "text": [
      "2938回の計算で、以下の10個を見つけた。\n",
      "10721266183262137436686627264280929985573962254622582339385699456000413523287983945569478953984751433704464083992812931131945307485358646963998768622724200943831494608438080494064409149824346596460941\n",
      "14439678293455394474289971635296971170122064651664666205075702218120152322187255753401134513223026711374816338671156413998160375962360250463376611558994078901628172076473913815893167041023762176863587\n",
      "17263042046130646722572950493701124052959821679803447185372340605590659533757696498853637533966761540083217186425253856772535706431744517639195040204984111044282585478725500969180252489566605458459933\n",
      "20705731340145562463279471490708995615328782290158074493959341815430522197652251352641827569159669507145689773797669453516197358807477828807931009655600107768897946854892579812215015962074955495139891\n",
      "21808259757138609699697083413261931820607546027091650988361450918504547617482959476055190683429662989207753924730869146931280026057912864176035806752285024024289668318257432803879820965705525021883007\n",
      "37542539390462331617409395371212329649173363123616058071651280878416666495652656847062810587697400769526707471606915947099505015421427644845880530290008587356958649523492149722558406211825384289664063\n",
      "38645933471571769617495023487160471245945621902657815212593088807709346293704266998551741782368157731410779296418252462120053810104304657077006606881196955531288700912236376504983937723669745478154531\n",
      "49988068905580559350433545364530380367368442158112096333151789557587570132320970545748045223316867927085160106853833610082882522418794537540180976528222378168652889540405464302237894656686027129716981\n",
      "63177468201713058241512834671485500791839485360146624533171263076455188611564051378967729912259661279874429574240692010508411347194647073215889930506138021693078890368405726792038504508440596801586351\n",
      "87351833631245790397286499392404539187725921405975890682181391340079052264536170067403102285850049032347558565294138669698207164320921632977466893139347408630968079597785740280478261954136702466979639\n"
     ]
    }
   ],
   "source": [
    "print(f'{cnt}回の計算で、以下の10個を見つけた。')\n",
    "for v in sorted(prime_set):\n",
    "    print(v)  "
   ]
  }
 ],
 "metadata": {
  "kernelspec": {
   "display_name": "Python 3",
   "language": "python",
   "name": "python3"
  },
  "language_info": {
   "codemirror_mode": {
    "name": "ipython",
    "version": 3
   },
   "file_extension": ".py",
   "mimetype": "text/x-python",
   "name": "python",
   "nbconvert_exporter": "python",
   "pygments_lexer": "ipython3",
   "version": "3.7.6"
  }
 },
 "nbformat": 4,
 "nbformat_minor": 2
}
