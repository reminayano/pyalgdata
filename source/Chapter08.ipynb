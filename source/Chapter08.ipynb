{
 "cells": [
  {
   "cell_type": "markdown",
   "metadata": {},
   "source": [
    "**ハミルトン閉路問題**\n",
    "：「与えられた連結グラフが，すべての頂点をちょうど1回ずつ通る閉路を含むか」すべての頂点を1回ずつ通るが，閉路にならずに道となる(始点と終点が一致しない)場合は，**ハミルトン路**という．\n",
    "\n",
    "ハミルトン閉路問題を，重みのついた辺によるグラフ考え，このグラフのある閉路がハミルトン閉路になっているとする．このとき閉路のコストは，閉路の辺の重みをすべて足し合わせたものとなる．\n",
    "\n",
    "**巡回セールスマン問題**\n",
    "：ハミルトン閉路の中で，コストが最小となるものを探す．"
   ]
  },
  {
   "cell_type": "markdown",
   "metadata": {},
   "source": [
    "`pow(base, exp[, mod])`\n",
    "base の exp 乗を返します; mod があれば、base の exp 乗に対する mod の剰余を返します "
   ]
  },
  {
   "cell_type": "code",
   "execution_count": 11,
   "metadata": {},
   "outputs": [],
   "source": [
    "def prime_test(n):\n",
    "    \"\"\"引数が素数かどうかを判定する\"\"\"\n",
    "    m = int(pow(n, 0.5))  #  ルートnまで調べれば十分\n",
    "    for d in range(2, m + 1): \n",
    "        if n % d == 0:\n",
    "            return False\n",
    "    return True"
   ]
  },
  {
   "cell_type": "code",
   "execution_count": 8,
   "metadata": {},
   "outputs": [],
   "source": [
    "# ｎが大きくなっても正確に計算するためのコード\n",
    "\n",
    "# 3.7以前ではdecimalを利用する。\n",
    "from decimal import Decimal, getcontext\n",
    "\n",
    "def prime_test_large_n(n):\n",
    "    # 計算の精度を指定する\n",
    "    getcontext().prec = len(str(n))\n",
    "    m = int(Decimal(n).sqrt())\n",
    "    for d in range(2, m + 1):\n",
    "        if n % d == 0:\n",
    "            return False\n",
    "    return True"
   ]
  },
  {
   "cell_type": "code",
   "execution_count": 9,
   "metadata": {},
   "outputs": [],
   "source": [
    "# 3.8以降では、math.isqrtが利用できる。\n",
    "import math\n",
    "\n",
    "def prime_test(n):\n",
    "    \"\"\"引数が素数かどうかを判定する\"\"\"\n",
    "    m = math.isqrt(n)\n",
    "    for d in range(2, m + 1):\n",
    "        if n % d == 0:\n",
    "            return False\n",
    "    return True"
   ]
  },
  {
   "cell_type": "code",
   "execution_count": 12,
   "metadata": {},
   "outputs": [
    {
     "data": {
      "text/plain": [
       "True"
      ]
     },
     "execution_count": 12,
     "metadata": {},
     "output_type": "execute_result"
    }
   ],
   "source": [
    "prime_test(71)"
   ]
  },
  {
   "cell_type": "code",
   "execution_count": 13,
   "metadata": {},
   "outputs": [
    {
     "data": {
      "text/plain": [
       "False"
      ]
     },
     "execution_count": 13,
     "metadata": {},
     "output_type": "execute_result"
    }
   ],
   "source": [
    "prime_test(5489)"
   ]
  },
  {
   "cell_type": "code",
   "execution_count": 14,
   "metadata": {},
   "outputs": [
    {
     "data": {
      "text/plain": [
       "True"
      ]
     },
     "execution_count": 14,
     "metadata": {},
     "output_type": "execute_result"
    }
   ],
   "source": [
    "prime_test(2147483647)"
   ]
  },
  {
   "cell_type": "code",
   "execution_count": null,
   "metadata": {},
   "outputs": [],
   "source": [
    "# これは諦めた方がいい。\n",
    "prime_test(2305843009213693951)"
   ]
  },
  {
   "cell_type": "markdown",
   "metadata": {},
   "source": [
    "**空間複雑性** \n",
    "：アルゴリズムの実行に際してどれくらいのメモリが必要となるか\n",
    "\n",
    "ナップザック問題の動的計画法による解放では，品物の数をn, ナップザックの容量をmとすると，途中の計算でn×mの表が必要であった．この表のために確保されるメモリは，品物の数やナップザックの容量に応じて増えることに注意が必要．\n",
    "\n",
    "一般に計算の複雑性という場合，時間と空間(メモリ)の両方を考える必要がある．\n",
    "\n",
    "## PとNP\n",
    "配列のソートやグラフの最短距離を求める問題は，普通のコンピュータを使って多項式時間でとくことができる．このような問題を**多項式**(Polynomial)の頭文字をとって，**クラスP**または単にPと呼ぶ．\n",
    "\n",
    "これに対し，普通のコンピュータでは多項式時間で解けないが，非決定性チューリング機械を使えば多項式で解ける問題を，**クラスNP**または単にNPと呼ぶ．非決定性チューリング機械とは，計算の途中にある分岐で，すべての道筋を実行できる(=分岐でどれかを選ぶか決める必要がない)コンピュータのことである．\n",
    "\n",
    "問題がクラスNPに属するためには，**判定問題**である必要がある．判定問題(あるいは決定問題)とは，計算の結果がyesかnoで返ってくる問題．素数判定の問題や，ハミルトン閉路問題は判定問題である．ナップザック問題は，価値を最大化する品物の組み合わせを求める問題であり，最適化問題と呼ばれる．問題を少し変形して，「重量制限があるナップザックに入れる品物の組み合わせで価値がある定数cを超える組み合わせがあるか」という問題を考える．これはyesかnoで答えられるので判定問題である．\n",
    "\n",
    "## 3SAT\n",
    "TrueまたはFalseを保持する変数をいくつか並べて，論理和でつなげたもの（節）を，さらに論理積でつなげたものがTrueとなる変数の組み合わせが存在するか，という判定問題．各変数にTrueやFalseを割り当てて計算すれば，全体がTrueとなるかどうか確かめることはできる．3SATの3とは，各節に含まれるリテラルの数が高々3つであることを示している．\n",
    "\n",
    "kSATクラスを作り，乱数を使って問題を生成するクラスメソッドを追加する．kSATのkと変数の数，節の数を指定できるようにする．"
   ]
  },
  {
   "cell_type": "markdown",
   "metadata": {},
   "source": [
    "インスタンスメソッドが`self`でインスタンス自身を参照するように、`cls`はメソッド内でクラス自身を参照できるようにするための引数"
   ]
  },
  {
   "cell_type": "code",
   "execution_count": 33,
   "metadata": {},
   "outputs": [],
   "source": [
    "import random\n",
    "random.seed(8)\n",
    "\n",
    "class kSAT:\n",
    "    \n",
    "    @classmethod\n",
    "    def generate(cls, k, var_num, clause_num):\n",
    "        \"\"\"変数の数（var_num）と節の数（clause_num）をとりkSAT問題を作る\"\"\"\n",
    "        ksat = cls()\n",
    "        var_list = list(range(var_num))\n",
    "        # 問題の本体を格納するための変数\n",
    "        res = []\n",
    "        while len(res) < clause_num:\n",
    "            clause = []\n",
    "            # 高々k個の変数が含まれる\n",
    "            clause_size = random.randint(1, k)\n",
    "            for i in random.sample(var_list, clause_size):\n",
    "                # 1ならnotで変数を否定する\n",
    "                prefix = random.choice((0, 1))\n",
    "                clause.append((prefix, i))\n",
    "            # 同一の節を判定できるよう変数の添え字でソート\n",
    "            print(\"clause : \", clause)\n",
    "            clause.sort(key=lambda x: x[1])\n",
    "            print(\"clause (変数の添字でソート) \", clause)\n",
    "            if clause not in res: res.append(clause)  # 同一の節がすでに存在すれば，追加しても意味がない\n",
    "        # ｋSATのインスタンスに格納\n",
    "        ksat.body = res  # clause(節)が何個か入っている\n",
    "        return ksat\n",
    "    \n",
    "    def test(self, var_list):\n",
    "        \"\"\"受け取ったvar_listのTrue、Falseを使って論理式を評価する\"\"\"\n",
    "        res = []\n",
    "        for clause in self.body:  # 節を一つずつ取り出して，各節の真偽をresに追加していく\n",
    "            clause_data = [not var_list[i] if p else var_list[i] for p, i in clause]  # prefix(p)が１なら変数を否定する\n",
    "            # 各節はどれか1つでもTrueならTrue\n",
    "            print(\"clause_data : \", clause_data)\n",
    "            res.append(any(clause_data))\n",
    "        # 全体は、すべてがTrueならTrue\n",
    "        return all(res)\n",
    "    \n",
    "    def __str__(self):\n",
    "        res = []\n",
    "        for clause in self.body:\n",
    "            clause_str = [f'¬x{i}' if p else f'x{i}' for p, i in clause]\n",
    "            res.append('(' + ' ∨ '.join(clause_str) + ')')\n",
    "        return ' ∧ '.join(res)"
   ]
  },
  {
   "cell_type": "code",
   "execution_count": 34,
   "metadata": {},
   "outputs": [
    {
     "name": "stdout",
     "output_type": "stream",
     "text": [
      "clause :  [(1, 2)]\n",
      "clause (変数の添字でソート)  [(1, 2)]\n",
      "clause :  [(0, 1)]\n",
      "clause (変数の添字でソート)  [(0, 1)]\n",
      "clause :  [(0, 1)]\n",
      "clause (変数の添字でソート)  [(0, 1)]\n",
      "clause :  [(1, 1), (1, 3), (1, 0)]\n",
      "clause (変数の添字でソート)  [(1, 0), (1, 1), (1, 3)]\n",
      "(¬x2) ∧ (x1) ∧ (¬x0 ∨ ¬x1 ∨ ¬x3)\n"
     ]
    }
   ],
   "source": [
    "ksat = kSAT.generate(3, 4, 3)\n",
    "print(ksat)"
   ]
  },
  {
   "cell_type": "code",
   "execution_count": 38,
   "metadata": {
    "scrolled": true
   },
   "outputs": [
    {
     "name": "stdout",
     "output_type": "stream",
     "text": [
      "cand :  [True, False, False, False]\n",
      "clause_data :  [True]\n",
      "clause_data :  [False]\n",
      "clause_data :  [False, True, True]\n",
      "cand :  [True, True, False, True]\n",
      "clause_data :  [True]\n",
      "clause_data :  [True]\n",
      "clause_data :  [False, False, False]\n",
      "cand :  [False, False, True, True]\n",
      "clause_data :  [False]\n",
      "clause_data :  [False]\n",
      "clause_data :  [True, True, False]\n",
      "cand :  [True, False, False, True]\n",
      "clause_data :  [True]\n",
      "clause_data :  [False]\n",
      "clause_data :  [False, True, False]\n",
      "cand :  [True, True, False, False]\n",
      "clause_data :  [True]\n",
      "clause_data :  [True]\n",
      "clause_data :  [False, False, True]\n",
      "find True :  [True, True, False, False]\n"
     ]
    }
   ],
   "source": [
    "while True:\n",
    "    cand = random.choices([True, False], k=4)\n",
    "    print(\"cand : \", cand)\n",
    "    if ksat.test(cand):\n",
    "        print(\"find True : \", cand)  # これが出力されれば，全体がTrueになる変数の組み合わせが見つかったということ．\n",
    "        break"
   ]
  },
  {
   "cell_type": "code",
   "execution_count": null,
   "metadata": {},
   "outputs": [],
   "source": []
  },
  {
   "cell_type": "code",
   "execution_count": null,
   "metadata": {},
   "outputs": [],
   "source": []
  },
  {
   "cell_type": "code",
   "execution_count": null,
   "metadata": {},
   "outputs": [],
   "source": []
  },
  {
   "cell_type": "code",
   "execution_count": null,
   "metadata": {},
   "outputs": [],
   "source": []
  },
  {
   "cell_type": "code",
   "execution_count": null,
   "metadata": {},
   "outputs": [],
   "source": []
  },
  {
   "cell_type": "code",
   "execution_count": null,
   "metadata": {},
   "outputs": [],
   "source": []
  },
  {
   "cell_type": "markdown",
   "metadata": {},
   "source": [
    "# 練習問題解答"
   ]
  },
  {
   "cell_type": "markdown",
   "metadata": {},
   "source": [
    "## 8.1\n",
    "\n",
    "指定された桁数の正の整数をランダムに得る関数は、練習問題3.1で実装した。"
   ]
  },
  {
   "cell_type": "code",
   "execution_count": 39,
   "metadata": {},
   "outputs": [],
   "source": [
    "import random\n",
    "\n",
    "def rand_n_digit_int(n):\n",
    "    return random.randint(10**(n-1), 10**n - 1)"
   ]
  },
  {
   "cell_type": "markdown",
   "metadata": {},
   "source": [
    "1以上の整数を引数にとり、その桁数の素数を探す関数を作る。"
   ]
  },
  {
   "cell_type": "code",
   "execution_count": 40,
   "metadata": {
    "scrolled": true
   },
   "outputs": [],
   "source": [
    "def explore_n_digit_prime(n):\n",
    "    cnt = 1\n",
    "    while True:\n",
    "        d = rand_n_digit_int(n)\n",
    "        if prime_test(d):\n",
    "            break\n",
    "        cnt += 1\n",
    "    return d, cnt"
   ]
  },
  {
   "cell_type": "markdown",
   "metadata": {},
   "source": [
    "引数を8にすれば8桁の素数を見つけることができる。"
   ]
  },
  {
   "cell_type": "code",
   "execution_count": 41,
   "metadata": {},
   "outputs": [
    {
     "name": "stdout",
     "output_type": "stream",
     "text": [
      "67378279を5回目で見つけた。\n"
     ]
    }
   ],
   "source": [
    "d, cnt = explore_n_digit_prime(8)\n",
    "\n",
    "print(f'{d}を{cnt}回目で見つけた。')"
   ]
  },
  {
   "cell_type": "markdown",
   "metadata": {},
   "source": [
    "$n$が大きくなると、prime_testの実行に時間がかかるようになる。また、10桁を超えるような場合は、関数内部で平方根を整数にする部分で計算誤差の影響がでる可能性がある。これはprime_test_large_nを使うなどの方法で回避できる。計算量の問題も含め、このあたりのややこしい問題をすべて解決してくれる方法を9章で説明する。"
   ]
  },
  {
   "cell_type": "markdown",
   "metadata": {},
   "source": [
    "## 8.2\n",
    "\n",
    "ここでは大まかな時間がわかれば良いので、timeモジュールを使う。コードのパフォーマンスを測定するには、通常timeitモジュールを使って実装した方が正確になる。"
   ]
  },
  {
   "cell_type": "code",
   "execution_count": 48,
   "metadata": {},
   "outputs": [
    {
     "data": {
      "text/plain": [
       "[0.04945009879317108, 0.6980985166587703, 0.22605684996550823]"
      ]
     },
     "execution_count": 48,
     "metadata": {},
     "output_type": "execute_result"
    }
   ],
   "source": [
    "[random.random() for i in range(rand_n_digit_int(1))]  # 1桁の正の数を乱数として生成し，その数と同じ長さのリストを１つ作る"
   ]
  },
  {
   "cell_type": "code",
   "execution_count": 53,
   "metadata": {},
   "outputs": [],
   "source": [
    "import time\n",
    "\n",
    "def create_n_list(n):\n",
    "    s = time.time()\n",
    "    [random.random() for i in range(rand_n_digit_int(n))]\n",
    "    e = time.time()\n",
    "    return e - s"
   ]
  },
  {
   "cell_type": "code",
   "execution_count": 54,
   "metadata": {},
   "outputs": [
    {
     "name": "stdout",
     "output_type": "stream",
     "text": [
      "1\t1.1920928955078125e-05\n",
      "2\t1.71661376953125e-05\n",
      "3\t4.673004150390625e-05\n",
      "4\t0.001215219497680664\n",
      "5\t0.007560014724731445\n",
      "6\t0.11465907096862793\n",
      "7\t0.825659990310669\n",
      "8\t5.1415088176727295\n"
     ]
    }
   ],
   "source": [
    "for i in range(1, 9):\n",
    "    print('{}\\t{}'.format(i, create_n_list(i)))"
   ]
  },
  {
   "cell_type": "markdown",
   "metadata": {},
   "source": [
    "8桁目で時間が7桁の時の約10倍になっているのがわかる。9桁目も10倍の時間で済むならば、それほどかからないようにも思えるが、これにはメモリの問題が影響してくる。次の問題でそれを検討する。"
   ]
  },
  {
   "cell_type": "markdown",
   "metadata": {},
   "source": [
    "## 8.3\n",
    "\n",
    "sys.getsizeofは、引数にとったオブジェクトのサイズをbyte単位で返す。大きな数字になるとわかりにくいので、1024で2回割って、MB単位で表示する。"
   ]
  },
  {
   "cell_type": "code",
   "execution_count": 56,
   "metadata": {},
   "outputs": [],
   "source": [
    "import sys\n",
    "\n",
    "def create_n_list(n):\n",
    "    s = time.time()\n",
    "    test_list = [random.random() for i in range(rand_n_digit_int(n))]\n",
    "    e = time.time()\n",
    "    return e - s, sys.getsizeof(test_list)"
   ]
  },
  {
   "cell_type": "code",
   "execution_count": 58,
   "metadata": {},
   "outputs": [
    {
     "name": "stdout",
     "output_type": "stream",
     "text": [
      "1\t1.5020370483398438e-05\t0.00012969970703125\n",
      "2\t1.621246337890625e-05\t0.00051116943359375\n",
      "3\t1.9073486328125e-05\t0.00102996826171875\n",
      "4\t0.00041174888610839844\t0.02550506591796875\n",
      "5\t0.0028276443481445312\t0.21497344970703125\n",
      "6\t0.05741095542907715\t4.091285705566406\n",
      "7\t0.6605348587036133\t61.43299102783203\n",
      "8\t8.94231104850769\t819.8971557617188\n"
     ]
    },
    {
     "ename": "KeyboardInterrupt",
     "evalue": "",
     "output_type": "error",
     "traceback": [
      "\u001b[0;31m---------------------------------------------------------------------------\u001b[0m",
      "\u001b[0;31mKeyboardInterrupt\u001b[0m                         Traceback (most recent call last)",
      "\u001b[0;32m<ipython-input-58-5b3e6bea393a>\u001b[0m in \u001b[0;36m<module>\u001b[0;34m\u001b[0m\n\u001b[1;32m      1\u001b[0m \u001b[0;32mfor\u001b[0m \u001b[0mi\u001b[0m \u001b[0;32min\u001b[0m \u001b[0mrange\u001b[0m\u001b[0;34m(\u001b[0m\u001b[0;36m1\u001b[0m\u001b[0;34m,\u001b[0m \u001b[0;36m10\u001b[0m\u001b[0;34m)\u001b[0m\u001b[0;34m:\u001b[0m\u001b[0;34m\u001b[0m\u001b[0;34m\u001b[0m\u001b[0m\n\u001b[0;32m----> 2\u001b[0;31m     \u001b[0mt\u001b[0m\u001b[0;34m,\u001b[0m \u001b[0ms\u001b[0m \u001b[0;34m=\u001b[0m \u001b[0mcreate_n_list\u001b[0m\u001b[0;34m(\u001b[0m\u001b[0mi\u001b[0m\u001b[0;34m)\u001b[0m\u001b[0;34m\u001b[0m\u001b[0;34m\u001b[0m\u001b[0m\n\u001b[0m\u001b[1;32m      3\u001b[0m     \u001b[0mprint\u001b[0m\u001b[0;34m(\u001b[0m\u001b[0;34mf'{i}\\t{t}\\t{s/1024/1024}'\u001b[0m\u001b[0;34m)\u001b[0m\u001b[0;34m\u001b[0m\u001b[0;34m\u001b[0m\u001b[0m\n",
      "\u001b[0;32m<ipython-input-56-e9666f5937ac>\u001b[0m in \u001b[0;36mcreate_n_list\u001b[0;34m(n)\u001b[0m\n\u001b[1;32m      3\u001b[0m \u001b[0;32mdef\u001b[0m \u001b[0mcreate_n_list\u001b[0m\u001b[0;34m(\u001b[0m\u001b[0mn\u001b[0m\u001b[0;34m)\u001b[0m\u001b[0;34m:\u001b[0m\u001b[0;34m\u001b[0m\u001b[0;34m\u001b[0m\u001b[0m\n\u001b[1;32m      4\u001b[0m     \u001b[0ms\u001b[0m \u001b[0;34m=\u001b[0m \u001b[0mtime\u001b[0m\u001b[0;34m.\u001b[0m\u001b[0mtime\u001b[0m\u001b[0;34m(\u001b[0m\u001b[0;34m)\u001b[0m\u001b[0;34m\u001b[0m\u001b[0;34m\u001b[0m\u001b[0m\n\u001b[0;32m----> 5\u001b[0;31m     \u001b[0mtest_list\u001b[0m \u001b[0;34m=\u001b[0m \u001b[0;34m[\u001b[0m\u001b[0mrandom\u001b[0m\u001b[0;34m.\u001b[0m\u001b[0mrandom\u001b[0m\u001b[0;34m(\u001b[0m\u001b[0;34m)\u001b[0m \u001b[0;32mfor\u001b[0m \u001b[0mi\u001b[0m \u001b[0;32min\u001b[0m \u001b[0mrange\u001b[0m\u001b[0;34m(\u001b[0m\u001b[0mrand_n_digit_int\u001b[0m\u001b[0;34m(\u001b[0m\u001b[0mn\u001b[0m\u001b[0;34m)\u001b[0m\u001b[0;34m)\u001b[0m\u001b[0;34m]\u001b[0m\u001b[0;34m\u001b[0m\u001b[0;34m\u001b[0m\u001b[0m\n\u001b[0m\u001b[1;32m      6\u001b[0m     \u001b[0me\u001b[0m \u001b[0;34m=\u001b[0m \u001b[0mtime\u001b[0m\u001b[0;34m.\u001b[0m\u001b[0mtime\u001b[0m\u001b[0;34m(\u001b[0m\u001b[0;34m)\u001b[0m\u001b[0;34m\u001b[0m\u001b[0;34m\u001b[0m\u001b[0m\n\u001b[1;32m      7\u001b[0m     \u001b[0;32mreturn\u001b[0m \u001b[0me\u001b[0m \u001b[0;34m-\u001b[0m \u001b[0ms\u001b[0m\u001b[0;34m,\u001b[0m \u001b[0msys\u001b[0m\u001b[0;34m.\u001b[0m\u001b[0mgetsizeof\u001b[0m\u001b[0;34m(\u001b[0m\u001b[0mtest_list\u001b[0m\u001b[0;34m)\u001b[0m\u001b[0;34m\u001b[0m\u001b[0;34m\u001b[0m\u001b[0m\n",
      "\u001b[0;32m<ipython-input-56-e9666f5937ac>\u001b[0m in \u001b[0;36m<listcomp>\u001b[0;34m(.0)\u001b[0m\n\u001b[1;32m      3\u001b[0m \u001b[0;32mdef\u001b[0m \u001b[0mcreate_n_list\u001b[0m\u001b[0;34m(\u001b[0m\u001b[0mn\u001b[0m\u001b[0;34m)\u001b[0m\u001b[0;34m:\u001b[0m\u001b[0;34m\u001b[0m\u001b[0;34m\u001b[0m\u001b[0m\n\u001b[1;32m      4\u001b[0m     \u001b[0ms\u001b[0m \u001b[0;34m=\u001b[0m \u001b[0mtime\u001b[0m\u001b[0;34m.\u001b[0m\u001b[0mtime\u001b[0m\u001b[0;34m(\u001b[0m\u001b[0;34m)\u001b[0m\u001b[0;34m\u001b[0m\u001b[0;34m\u001b[0m\u001b[0m\n\u001b[0;32m----> 5\u001b[0;31m     \u001b[0mtest_list\u001b[0m \u001b[0;34m=\u001b[0m \u001b[0;34m[\u001b[0m\u001b[0mrandom\u001b[0m\u001b[0;34m.\u001b[0m\u001b[0mrandom\u001b[0m\u001b[0;34m(\u001b[0m\u001b[0;34m)\u001b[0m \u001b[0;32mfor\u001b[0m \u001b[0mi\u001b[0m \u001b[0;32min\u001b[0m \u001b[0mrange\u001b[0m\u001b[0;34m(\u001b[0m\u001b[0mrand_n_digit_int\u001b[0m\u001b[0;34m(\u001b[0m\u001b[0mn\u001b[0m\u001b[0;34m)\u001b[0m\u001b[0;34m)\u001b[0m\u001b[0;34m]\u001b[0m\u001b[0;34m\u001b[0m\u001b[0;34m\u001b[0m\u001b[0m\n\u001b[0m\u001b[1;32m      6\u001b[0m     \u001b[0me\u001b[0m \u001b[0;34m=\u001b[0m \u001b[0mtime\u001b[0m\u001b[0;34m.\u001b[0m\u001b[0mtime\u001b[0m\u001b[0;34m(\u001b[0m\u001b[0;34m)\u001b[0m\u001b[0;34m\u001b[0m\u001b[0;34m\u001b[0m\u001b[0m\n\u001b[1;32m      7\u001b[0m     \u001b[0;32mreturn\u001b[0m \u001b[0me\u001b[0m \u001b[0;34m-\u001b[0m \u001b[0ms\u001b[0m\u001b[0;34m,\u001b[0m \u001b[0msys\u001b[0m\u001b[0;34m.\u001b[0m\u001b[0mgetsizeof\u001b[0m\u001b[0;34m(\u001b[0m\u001b[0mtest_list\u001b[0m\u001b[0;34m)\u001b[0m\u001b[0;34m\u001b[0m\u001b[0;34m\u001b[0m\u001b[0m\n",
      "\u001b[0;31mKeyboardInterrupt\u001b[0m: "
     ]
    }
   ],
   "source": [
    "for i in range(1, 10):\n",
    "    t, s = create_n_list(i)\n",
    "    print(f'{i}\\t{t}\\t{s/1024/1024}')"
   ]
  },
  {
   "cell_type": "markdown",
   "metadata": {},
   "source": [
    "8桁（1億から10億未満）にもなる長さでは、サイズが数百MBほどになる。このまま9桁のサイズになると数GBになってしまう。これは一般的なパーソナルコンピュータのメモリサイズと同じくらいだ。かなりの高性能機でなければ、9桁のサイズのリストは扱わない方が良いだろう。\n",
    "\n",
    "実際には、リストを作ったあとさまざまな計算をすることになる。6桁（数百万）〜7桁（数千万）くらいのサイズを越えるようであれば、データベースサーバの導入など、Pythonプログラムだけで処理しない方法を検討したほうがよいだろう。"
   ]
  }
 ],
 "metadata": {
  "kernelspec": {
   "display_name": "Python 3",
   "language": "python",
   "name": "python3"
  },
  "language_info": {
   "codemirror_mode": {
    "name": "ipython",
    "version": 3
   },
   "file_extension": ".py",
   "mimetype": "text/x-python",
   "name": "python",
   "nbconvert_exporter": "python",
   "pygments_lexer": "ipython3",
   "version": "3.7.6"
  }
 },
 "nbformat": 4,
 "nbformat_minor": 2
}
